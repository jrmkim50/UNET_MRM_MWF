{
 "cells": [
  {
   "cell_type": "code",
   "execution_count": 1,
   "id": "c7596974",
   "metadata": {
    "scrolled": true
   },
   "outputs": [
    {
     "name": "stderr",
     "output_type": "stream",
     "text": [
      "/home/jeremy/jeremy/lib/python3.6/site-packages/tensorflow/python/framework/dtypes.py:516: FutureWarning: Passing (type, 1) or '1type' as a synonym of type is deprecated; in a future version of numpy, it will be understood as (type, (1,)) / '(1,)type'.\n",
      "  _np_qint8 = np.dtype([(\"qint8\", np.int8, 1)])\n",
      "/home/jeremy/jeremy/lib/python3.6/site-packages/tensorflow/python/framework/dtypes.py:517: FutureWarning: Passing (type, 1) or '1type' as a synonym of type is deprecated; in a future version of numpy, it will be understood as (type, (1,)) / '(1,)type'.\n",
      "  _np_quint8 = np.dtype([(\"quint8\", np.uint8, 1)])\n",
      "/home/jeremy/jeremy/lib/python3.6/site-packages/tensorflow/python/framework/dtypes.py:518: FutureWarning: Passing (type, 1) or '1type' as a synonym of type is deprecated; in a future version of numpy, it will be understood as (type, (1,)) / '(1,)type'.\n",
      "  _np_qint16 = np.dtype([(\"qint16\", np.int16, 1)])\n",
      "/home/jeremy/jeremy/lib/python3.6/site-packages/tensorflow/python/framework/dtypes.py:519: FutureWarning: Passing (type, 1) or '1type' as a synonym of type is deprecated; in a future version of numpy, it will be understood as (type, (1,)) / '(1,)type'.\n",
      "  _np_quint16 = np.dtype([(\"quint16\", np.uint16, 1)])\n",
      "/home/jeremy/jeremy/lib/python3.6/site-packages/tensorflow/python/framework/dtypes.py:520: FutureWarning: Passing (type, 1) or '1type' as a synonym of type is deprecated; in a future version of numpy, it will be understood as (type, (1,)) / '(1,)type'.\n",
      "  _np_qint32 = np.dtype([(\"qint32\", np.int32, 1)])\n",
      "/home/jeremy/jeremy/lib/python3.6/site-packages/tensorflow/python/framework/dtypes.py:525: FutureWarning: Passing (type, 1) or '1type' as a synonym of type is deprecated; in a future version of numpy, it will be understood as (type, (1,)) / '(1,)type'.\n",
      "  np_resource = np.dtype([(\"resource\", np.ubyte, 1)])\n"
     ]
    }
   ],
   "source": [
    "import torch\n",
    "import os\n",
    "import numpy as np\n",
    "from Hang.utils_u_groupnorm_pytorchLightning import *\n",
    "from utils import *\n",
    "import time as time\n",
    "import nibabel as nib\n",
    "import random\n",
    "from tqdm import tqdm\n",
    "import matplotlib.pyplot as plt\n",
    "\n",
    "np.random.seed(0)\n",
    "random.seed(5)\n",
    "torch.manual_seed(0)\n",
    "\n",
    "device = torch.device(\"cuda:1\" if torch.cuda.is_available() else \"cpu\")"
   ]
  },
  {
   "cell_type": "code",
   "execution_count": 2,
   "id": "aab6edbd",
   "metadata": {},
   "outputs": [],
   "source": [
    "def loadData(numbers, numTE, usingSR, nClasses, SNR=200, getLesion = True):\n",
    "    mask_files = getMaskFilenames(numbers)\n",
    "    lesion_mask_files = getLesionMaskFilenames(numbers)\n",
    "    fastt2_files = getRealBrainFilenames(numbers) \\\n",
    "                   if numTE == 6 \\\n",
    "                   else getSimulated32TE(numbers, SNR)\n",
    "    label_files = getLabelFilenamesAsMWF(numbers, usingSR) \\\n",
    "                  if nClasses == 1 \\\n",
    "                  else getLabelFilenamesAsWeights(numbers)\n",
    "    \n",
    "    mask_array = loadMasks(mask_files)\n",
    "    lesion_mask_array = loadLesionMasks(lesion_mask_files) if getLesion else None\n",
    "    brains = loadBrains(fastt2_files, mask_array)\n",
    "    labels = loadLabels(label_files, mask_array)\n",
    "    \n",
    "    if numTE == 6 and usingSR and nClasses == 1 and \"2245\" in numbers:\n",
    "        subj2245Idx = numbers.index(\"2245\")\n",
    "        mask2245 = mask_array[subj2245Idx][None]\n",
    "        lesion2245 = lesion_mask_array[subj2245Idx][None]\n",
    "        label2245 = labels[subj2245Idx][None]\n",
    "        brain2245 = nib.load(\"../2245/FAST_T2_NO_NOISE.nii.gz\").get_fdata()\n",
    "        brain2245 = brain2245.transpose((3,0,1,2))[None]\n",
    "        return labels, brains, mask_array, lesion_mask_array, \\\n",
    "               label2245, brain2245, mask2245, lesion2245\n",
    "    return labels, brains, mask_array, lesion_mask_array"
   ]
  },
  {
   "cell_type": "code",
   "execution_count": 3,
   "id": "70a764e2",
   "metadata": {},
   "outputs": [],
   "source": [
    "from Hang.unet3dPersonalGroupNorm_pytorchLightning import unet3d_tuning\n",
    "from Hang.annPersonalBatchNorm_pytorchLightning import ann_256_256_32, ann_big"
   ]
  },
  {
   "cell_type": "code",
   "execution_count": 4,
   "id": "60f76b38",
   "metadata": {},
   "outputs": [],
   "source": [
    "def calculateResultsErrorTableMLP(state_dict, \n",
    "                                  stats, \n",
    "                                  testBrains, \n",
    "                                  testLabels, \n",
    "                                  testMasks, \n",
    "                                  numbers, \n",
    "                                  lesions = None, \n",
    "                                  save=False, \n",
    "                                  brainType = \"real\", \n",
    "                                  lesion = False, \n",
    "                                  nClasses = 1, \n",
    "                                  inChannels = 6, \n",
    "                                  folder = \"\"):\n",
    "    featureNumPaths = [\"MWF\"] if nClasses == 1 \\\n",
    "                      else [\"MWF\", \"IEWF\", \"CSFF\", \"MWF_T2\", \"IEWF_T2\", \"CSFF_T2\"]\n",
    "    model = ann_256_256_32(0.01, \n",
    "                           [256,256,32], \n",
    "                           n_classes = nClasses, \n",
    "                           in_channels = inChannels).float() if inChannels == 6 \\\n",
    "            else ann_big(0.01, \n",
    "                         [256,256,32], \n",
    "                         n_classes = nClasses, \n",
    "                         in_channels = inChannels).float()\n",
    "    state_dict = torch.load(state_dict, map_location='cpu')\n",
    "    model.load_state_dict(state_dict[\"state_dict\"])\n",
    "    model = model.float().to(device)\n",
    "    model.eval()\n",
    "    results = {}\n",
    "    for i in range(nClasses):\n",
    "        results[i] = []\n",
    "    size = testBrains.shape[2:]  # 256, 256, 32\n",
    "    \n",
    "    for idx in range(len(testBrains)):\n",
    "        number = numbers[idx]\n",
    "        signal = np.divide(testBrains[idx], testBrains[idx][0] + 1e-16)\n",
    "        # signal shape: num_features, 256, 256, 32\n",
    "        signal = signal.swapaxes(1,3)\n",
    "        # signal shape: num_features, 32, 256, 256\n",
    "        signal = signal.reshape(inChannels,size[2],-1).swapaxes(0,2) \n",
    "        # signal shape: -1, 32, num_features\n",
    "        output = np.zeros((1,nClasses,size[1],size[0],size[2]))  # 1, nClasses, 256, 256, 32\n",
    "        for i in range(size[2]):  # 32\n",
    "            out = model(torch.tensor(signal[:,i]).float().to(device)).to(device)\n",
    "            out = out.reshape(size[1],size[0],-1).permute(2,0,1)  # -1, 256, 256\n",
    "            output[0,:,:,:,i] = out.detach().cpu().numpy() \n",
    "        label = testLabels[idx].copy()\n",
    "        for i in range(nClasses):\n",
    "            output[0,i] *= stats[i][1]\n",
    "            output[0,i] += stats[i][0]\n",
    "            \n",
    "        if nClasses == 6:\n",
    "            guess_sum = output[0,0]+output[0,1]+output[0,2]+1e-16\n",
    "            output[0,0] /= guess_sum\n",
    "            output[0,1] /= guess_sum\n",
    "            output[0,2] /= guess_sum\n",
    "            output[0,0] *= 100\n",
    "            output[0,1] *= 100\n",
    "            output[0,2] *= 100\n",
    "        if len(label) == 6:\n",
    "            label_sum = label[0] + label[1] + label[2]+1e-16\n",
    "            label[0] /= label_sum\n",
    "            label[1] /= label_sum\n",
    "            label[2] /= label_sum\n",
    "            label[0] *= 100\n",
    "            label[1] *= 100\n",
    "            label[2] *= 100\n",
    "\n",
    "        label = np.nan_to_num(label)\n",
    "        output = np.nan_to_num(output)\n",
    "        mask = testMasks[idx]\n",
    "        output = output[0].swapaxes(1,2)\n",
    "\n",
    "        for feature_num in range(len(label)):\n",
    "            min_max = [0, 100] if feature_num == 0 else [-3000, 3000]\n",
    "            brain = np.clip(output[feature_num] * mask, min_max[0], min_max[1])\n",
    "            label_big = label[feature_num] * mask\n",
    "            error = abs(-label_big+brain)\n",
    "#             error = -label_big+brain  # TODO: REINSERT THE ABSOLUTE VALUE SIGN! DO NOT SAVE THESE RESULTS!\n",
    "            if (lesion):\n",
    "                lesionMask = lesions[idx]\n",
    "                if (lesionMask.sum() == 0):\n",
    "                    continue\n",
    "                error = error[lesionMask == 1]\n",
    "                results[feature_num].append((number, np.mean(error)))\n",
    "            else:\n",
    "                error = error[mask == 1]\n",
    "                results[feature_num].append((number, np.mean(error)))\n",
    "                if (save):\n",
    "                    sample = f\"../{number}/MWF.nii.gz\"\n",
    "                    base = f\"results_v3/{folder}/{featureNumPaths[feature_num]}\"\n",
    "                    save_nii(brain, \n",
    "                             f\"{base}/{number}_pred_MLP_{brainType}.nii.gz\", \n",
    "                             sample)\n",
    "                    save_nii(label_big, \n",
    "                             f\"{base}/{number}_label_MLP_{brainType}.nii.gz\", \n",
    "                             sample)\n",
    "                    save_nii(brain-label_big, \n",
    "                             f\"{base}/{number}_err_MLP_{brainType}.nii.gz\", \n",
    "                             sample)\n",
    "    return results"
   ]
  },
  {
   "cell_type": "code",
   "execution_count": 5,
   "id": "72c15678",
   "metadata": {},
   "outputs": [],
   "source": [
    "def calculateResultsErrorTableUNETTuning(state_dict, \n",
    "                                         stats, \n",
    "                                         testBrains, \n",
    "                                         testLabels, \n",
    "                                         testMasks, \n",
    "                                         numbers, \n",
    "                                         lesions = None, \n",
    "                                         save=False, \n",
    "                                         brainType = \"real\", \n",
    "                                         lesion = False, \n",
    "                                         nClasses = 1,  \n",
    "                                         inChannels = 6,\n",
    "                                         folder = \"\"):\n",
    "    featureNumPaths = [\"MWF\"] if nClasses == 1 \\\n",
    "                      else [\"MWF\", \"IEWF\", \"CSFF\", \"MWF_T2\", \"IEWF_T2\", \"CSFF_T2\"]\n",
    "    model = unet3d_tuning(0.01, n_classes=nClasses, in_channels=inChannels).float() \n",
    "    state_dict = torch.load(state_dict, map_location='cpu')\n",
    "    model.load_state_dict(state_dict[\"state_dict\"])\n",
    "    model = model.float().to(device)\n",
    "    model.eval()\n",
    "    results = {}\n",
    "    for i in range(nClasses):\n",
    "        results[i] = []\n",
    "    size = testBrains.shape[2:]\n",
    "\n",
    "    for idx in range(len(testBrains)): \n",
    "        number = numbers[idx]\n",
    "        mask = testMasks[idx]\n",
    "        signal = np.divide(testBrains[idx], testBrains[idx][0] + 1e-16)[None]\n",
    "        output = model(torch.tensor(signal).float().to(device)).to(device)\n",
    "        label = testLabels[idx].copy()\n",
    "        for i in range(nClasses):\n",
    "            output[0,i] *= stats[i][1]\n",
    "            output[0,i] += stats[i][0]\n",
    "        output = output.detach().cpu().numpy()\n",
    "        \n",
    "        if nClasses == 6:\n",
    "            guess_sum = output[0,0]+output[0,1]+output[0,2]+1e-16\n",
    "            output[0,0] /= guess_sum\n",
    "            output[0,1] /= guess_sum\n",
    "            output[0,2] /= guess_sum\n",
    "            output[0,0] *= 100\n",
    "            output[0,1] *= 100\n",
    "            output[0,2] *= 100\n",
    "        if len(label) == 6:\n",
    "            label_sum = label[0] + label[1] + label[2]+1e-16\n",
    "            label[0] /= label_sum\n",
    "            label[1] /= label_sum\n",
    "            label[2] /= label_sum\n",
    "            label[0] *= 100\n",
    "            label[1] *= 100\n",
    "            label[2] *= 100\n",
    "\n",
    "        label = np.nan_to_num(label).astype(float)\n",
    "        output = np.nan_to_num(output).astype(float)\n",
    "        output = output[0]\n",
    "        \n",
    "        for feature_num in range(len(label)):\n",
    "            min_max = [0, 100] if feature_num < 3 else [-3000, 3000]\n",
    "            brain = np.clip(output[feature_num] * mask, min_max[0], min_max[1])\n",
    "            label_big = label[feature_num] * mask\n",
    "            error = abs(-label_big+brain)\n",
    "#             error = -label_big+brain  # TODO: REINSERT THE ABSOLUTE VALUE SIGN! DO NOT SAVE THESE RESULTS!\n",
    "            if lesion:\n",
    "                lesionMask = lesions[idx]\n",
    "                if (lesionMask.sum() == 0):\n",
    "                    continue\n",
    "                error = error[lesionMask == 1]\n",
    "                results[feature_num].append((number, np.mean(error)))\n",
    "            else:\n",
    "                error = error[mask == 1]\n",
    "                results[feature_num].append((number, np.mean(error)))\n",
    "                if save:\n",
    "                    sample = f\"../{number}/MWF.nii.gz\"\n",
    "                    feature = featureNumPaths[feature_num]\n",
    "                    base = f\"results_v3/{folder}/{feature}\"\n",
    "                    save_nii(brain, \n",
    "                             f\"{base}/{number}_pred_UNET_{feature}_{brainType}.nii.gz\", \n",
    "                             sample)\n",
    "                    save_nii(label_big, \n",
    "                             f\"{base}/{number}_label_UNET_{feature}_{brainType}.nii.gz\", \n",
    "                             sample)\n",
    "                    save_nii(brain-label_big, \n",
    "                             f\"{base}/{number}_err_UNET_{feature}_{brainType}.nii.gz\", \n",
    "                             sample)\n",
    "    return results"
   ]
  },
  {
   "cell_type": "markdown",
   "id": "460d9251",
   "metadata": {},
   "source": [
    "# 1. Test Dataset 1"
   ]
  },
  {
   "cell_type": "code",
   "execution_count": 6,
   "id": "6bfcb8e1",
   "metadata": {},
   "outputs": [],
   "source": [
    "numbers = [\"0001\",\"0017\",\"0018\",\"0038\",\"0040\",\"0042\",\"0046\",\"0087\",\"0090\",\"0108\",\"0116\",\"0131\",\"0178\",\"0190\",\n",
    "           \"0227\",\"0248\",\"0267\",\"0282\",\"0285\",\"0398\",\"0448\",\"0466\",\"0504\",\"0514\",\"0535\",\"0564\",\"0598\",\"0606\",\n",
    "           \"0607\",\"0618\",\"0620\",\"0623\",\"0642\",\"0646\",\"0655\",\"0668\",\"0675\",\"0681\",\"0719\",\"0761\",\"0762\",\"0783\",\n",
    "           \"0786\",\"0868\",\"0877\",\"0887\",\"0895\",\"0902\",\"0931\",\"0979\",\"1007\",\"1013\",\"1029\",\"1033\",\"1068\",\"1142\",\n",
    "           \"1143\",\"1163\",\"1190\",\"1260\",\"1275\",\"1347\",\"1383\",\"1389\",\"1416\",\"1435\",\"1441\",\"1447\",\"1451\",\"1514\",\n",
    "           \"1520\",\"1602\",\"1611\",\"1621\",\"1680\",\"1684\",\"1686\",\"1710\",\"1720\",\"1739\",\"1743\",\"1749\",\"1753\",\"1760\",\n",
    "           \"1795\",\"1805\",\"1845\",\"1858\",\"1876\",\"1889\",\"1892\",\"1898\",\"1899\",\"1918\",\"1924\",\"1932\",\"1952\",\"1961\",\n",
    "           \"1972\",\"1987\",\"2003\",\"2007\",\"2016\",\"2020\",\"2022\",\"2030\",\"2045\",\"2047\",\"2049\",\"2053\",\"2055\",\"2074\",\n",
    "           \"2077\",\"2080\",\"2091\",\"2094\",\"2103\",\"2115\",\"2128\",\"2142\",\"2144\",\"2146\",\"2152\",\"2156\",\"2158\",\"2160\",\n",
    "           \"2161\",\"2179\",\"2180\",\"2181\",\"2183\",\"2186\",\"2188\",\"2212\",\"2221\",\"2231\",\"2234\",\"2245\"]\n",
    "SPLIT = 50\n",
    "numbers = numbers[SPLIT + 25:]\n",
    "SIM_BRAIN = '2245'"
   ]
  },
  {
   "cell_type": "markdown",
   "id": "4d57c476",
   "metadata": {},
   "source": [
    "## 1.5 Test MWF pred w/SR w/6 echoes w/6 outputs"
   ]
  },
  {
   "cell_type": "code",
   "execution_count": 10,
   "id": "5c6e1eec",
   "metadata": {},
   "outputs": [],
   "source": [
    "from scipy.ndimage import zoom"
   ]
  },
  {
   "cell_type": "code",
   "execution_count": 28,
   "id": "cdfcf0bd",
   "metadata": {},
   "outputs": [],
   "source": [
    "labels, brains, mask_array, lesion_mask_array = loadData(numbers[:5], 6, True, 6)"
   ]
  },
  {
   "cell_type": "code",
   "execution_count": 29,
   "id": "7a0ed7b5",
   "metadata": {},
   "outputs": [],
   "source": [
    "stats = getStats(6, True, 6)"
   ]
  },
  {
   "cell_type": "code",
   "execution_count": 30,
   "id": "fff2c50c",
   "metadata": {},
   "outputs": [],
   "source": [
    "brains = zoom(brains, (1, 1, 0.5, 0.5, 0.5))"
   ]
  },
  {
   "cell_type": "code",
   "execution_count": 31,
   "id": "bb87d78f",
   "metadata": {},
   "outputs": [],
   "source": [
    "labels = zoom(labels, (1, 1, 0.5, 0.5, 0.5))"
   ]
  },
  {
   "cell_type": "code",
   "execution_count": 32,
   "id": "d462ddee",
   "metadata": {},
   "outputs": [],
   "source": [
    "mask_array = zoom(mask_array, (1, 0.5, 0.5, 0.5))"
   ]
  },
  {
   "cell_type": "code",
   "execution_count": 36,
   "id": "673b248e",
   "metadata": {},
   "outputs": [],
   "source": [
    "mask_array_2 = mask_array.copy()"
   ]
  },
  {
   "cell_type": "code",
   "execution_count": 59,
   "id": "4cb034cd",
   "metadata": {},
   "outputs": [],
   "source": [
    "mask_array[mask_array >= 0.8] = 1\n",
    "mask_array[mask_array < 1] = 0"
   ]
  },
  {
   "cell_type": "code",
   "execution_count": 60,
   "id": "32415777",
   "metadata": {},
   "outputs": [
    {
     "data": {
      "text/plain": [
       "<matplotlib.colorbar.Colorbar at 0x7f0f00672748>"
      ]
     },
     "execution_count": 60,
     "metadata": {},
     "output_type": "execute_result"
    },
    {
     "data": {
      "image/png": "[encoded data removed]",
      "text/plain": [
       "<Figure size 432x288 with 2 Axes>"
      ]
     },
     "metadata": {
      "needs_background": "light"
     },
     "output_type": "display_data"
    }
   ],
   "source": [
    "plt.imshow(mask_array[0,:,:,10])\n",
    "plt.colorbar()"
   ]
  },
  {
   "cell_type": "code",
   "execution_count": 12,
   "id": "caedca8f",
   "metadata": {},
   "outputs": [],
   "source": [
    "lesion_mask_array = lesion_mask_array[:, ::2, ::2, ::2]"
   ]
  },
  {
   "cell_type": "markdown",
   "id": "031af8fd",
   "metadata": {},
   "source": [
    "### 1.5.a UNET"
   ]
  },
  {
   "cell_type": "code",
   "execution_count": 54,
   "id": "98a32c2a",
   "metadata": {},
   "outputs": [],
   "source": [
    "# %ls results_v3\n",
    "# !mkdir \"results_v3/unet-sr-mwf-6-echo-6-classes-fov\"\n",
    "# !mkdir \"results_v3/unet-sr-mwf-6-echo-6-classes-fov/MWF\"\n",
    "# !mkdir \"results_v3/unet-sr-mwf-6-echo-6-classes-fov/IEWF\"\n",
    "# !mkdir \"results_v3/unet-sr-mwf-6-echo-6-classes-fov/CSFF\"\n",
    "# !mkdir \"results_v3/unet-sr-mwf-6-echo-6-classes-fov/MWF_T2\"\n",
    "# !mkdir \"results_v3/unet-sr-mwf-6-echo-6-classes-fov/IEWF_T2\"\n",
    "# !mkdir \"results_v3/unet-sr-mwf-6-echo-6-classes-fov/CSFF_T2\""
   ]
  },
  {
   "cell_type": "code",
   "execution_count": 61,
   "id": "44d15ca1",
   "metadata": {},
   "outputs": [],
   "source": [
    "state_dict = \"../unet_models/unet_6_classes_2_accum_ckpt_epoch_38.ckpt\""
   ]
  },
  {
   "cell_type": "code",
   "execution_count": 62,
   "id": "2afdff48",
   "metadata": {},
   "outputs": [],
   "source": [
    "results_unet_sr_mwf_6_echo_6_classes = calculateResultsErrorTableUNETTuning(state_dict, stats,   \n",
    "                                                                            brains, labels,\n",
    "                                                                            mask_array, numbers[:5],\n",
    "                                                                            save=True, \n",
    "                                                                            folder=\"unet-sr-mwf-6-echo-6-classes-fov\",\n",
    "                                                                            nClasses = 6)"
   ]
  },
  {
   "cell_type": "code",
   "execution_count": 63,
   "id": "034b103a",
   "metadata": {},
   "outputs": [
    {
     "name": "stdout",
     "output_type": "stream",
     "text": [
      "8.822±3.907\n",
      "11.036±4.885\n",
      "8.395±5.484\n",
      "20.943±15.455\n",
      "34.418±21.485\n",
      "42.303±1.913\n"
     ]
    }
   ],
   "source": [
    "for j in range(6):\n",
    "    data = [i[1] for i in results_unet_sr_mwf_6_echo_6_classes[j]]\n",
    "    print(f\"{'{:.3f}'.format(np.mean(data))}±{'{:.3f}'.format(np.std(data))}\")"
   ]
  },
  {
   "cell_type": "code",
   "execution_count": 18,
   "id": "a1d88a2f",
   "metadata": {},
   "outputs": [],
   "source": [
    "results_unet_sr_mwf_6_echo_6_classes_lesion = calculateResultsErrorTableUNETTuning(state_dict, stats, \n",
    "                                                                                   brains, labels, \n",
    "                                                                                   mask_array, numbers,\n",
    "                                                                                   lesions=lesion_mask_array, \n",
    "                                                                                   lesion=True,\n",
    "                                                                                   save=False, \n",
    "                                                                                   nClasses = 6)"
   ]
  },
  {
   "cell_type": "code",
   "execution_count": 19,
   "id": "b1294f36",
   "metadata": {},
   "outputs": [
    {
     "name": "stdout",
     "output_type": "stream",
     "text": [
      "1.083±0.331\n",
      "1.456±0.475\n",
      "1.075±0.433\n",
      "2.754±1.078\n",
      "3.566±2.356\n",
      "0.023±0.011\n"
     ]
    }
   ],
   "source": [
    "for j in range(6):\n",
    "    data = [i[1] for i in results_unet_sr_mwf_6_echo_6_classes_lesion[j]]\n",
    "    print(f\"{'{:.3f}'.format(np.mean(data))}±{'{:.3f}'.format(np.std(data))}\")"
   ]
  },
  {
   "cell_type": "markdown",
   "id": "0029c9ee",
   "metadata": {},
   "source": [
    "### 1.5.b MLP"
   ]
  },
  {
   "cell_type": "code",
   "execution_count": 20,
   "id": "1dcca9dd",
   "metadata": {},
   "outputs": [],
   "source": [
    "# %ls results_v3\n",
    "# !mkdir \"results_v3/mlp-sr-mwf-6-echo-6-classes-fov\"\n",
    "# !mkdir \"results_v3/mlp-sr-mwf-6-echo-6-classes-fov/MWF\"\n",
    "# !mkdir \"results_v3/mlp-sr-mwf-6-echo-6-classes-fov/IEWF\"\n",
    "# !mkdir \"results_v3/mlp-sr-mwf-6-echo-6-classes-fov/CSFF\"\n",
    "# !mkdir \"results_v3/mlp-sr-mwf-6-echo-6-classes-fov/MWF_T2\"\n",
    "# !mkdir \"results_v3/mlp-sr-mwf-6-echo-6-classes-fov/IEWF_T2\"\n",
    "# !mkdir \"results_v3/mlp-sr-mwf-6-echo-6-classes-fov/CSFF_T2\""
   ]
  },
  {
   "cell_type": "code",
   "execution_count": 64,
   "id": "6e5678c0",
   "metadata": {},
   "outputs": [],
   "source": [
    "state_dict = \"../mlp_models/mlp_6_classes_ckpt_epoch_4.ckpt\""
   ]
  },
  {
   "cell_type": "code",
   "execution_count": 65,
   "id": "67e12621",
   "metadata": {},
   "outputs": [],
   "source": [
    "results_mlp_sr_mwf_6_echo_6_classes = calculateResultsErrorTableMLP(state_dict, stats, \n",
    "                                                                    brains, labels, \n",
    "                                                                    mask_array, numbers, \n",
    "                                                                    save=True, \n",
    "                                                                    folder = 'mlp-sr-mwf-6-echo-6-classes-fov',\n",
    "                                                                    nClasses = 6)"
   ]
  },
  {
   "cell_type": "code",
   "execution_count": 67,
   "id": "391c7e2a",
   "metadata": {},
   "outputs": [
    {
     "name": "stdout",
     "output_type": "stream",
     "text": [
      "1.082±0.090\n",
      "1.000±0.075\n",
      "0.290±0.029\n",
      "2.334±0.108\n",
      "2.437±0.180\n",
      "42.201±1.950\n"
     ]
    }
   ],
   "source": [
    "for j in range(6):\n",
    "    data = [i[1] for i in results_mlp_sr_mwf_6_echo_6_classes[j]]\n",
    "    print(f\"{'{:.3f}'.format(np.mean(data))}±{'{:.3f}'.format(np.std(data))}\")"
   ]
  },
  {
   "cell_type": "code",
   "execution_count": 24,
   "id": "5d59db0f",
   "metadata": {},
   "outputs": [],
   "source": [
    "results_mlp_sr_mwf_6_echo_6_classes_lesion = calculateResultsErrorTableMLP(state_dict, stats, \n",
    "                                                                           brains, labels, \n",
    "                                                                           mask_array, numbers, \n",
    "                                                                           lesions=lesion_mask_array, lesion=True,\n",
    "                                                                           save=False, nClasses = 6)"
   ]
  },
  {
   "cell_type": "code",
   "execution_count": 25,
   "id": "e2232e82",
   "metadata": {},
   "outputs": [
    {
     "name": "stdout",
     "output_type": "stream",
     "text": [
      "1.246±0.456\n",
      "1.037±0.356\n",
      "0.505±0.195\n",
      "1.901±0.839\n",
      "1.963±0.933\n",
      "0.009±0.006\n"
     ]
    }
   ],
   "source": [
    "for j in range(6):\n",
    "    data = [i[1] for i in results_mlp_sr_mwf_6_echo_6_classes_lesion[j]]\n",
    "    print(f\"{'{:.3f}'.format(np.mean(data))}±{'{:.3f}'.format(np.std(data))}\")"
   ]
  },
  {
   "cell_type": "code",
   "execution_count": 27,
   "id": "a9e14824",
   "metadata": {},
   "outputs": [],
   "source": [
    "from scipy.stats import ranksums"
   ]
  },
  {
   "cell_type": "code",
   "execution_count": 28,
   "id": "9991ed90",
   "metadata": {},
   "outputs": [
    {
     "name": "stdout",
     "output_type": "stream",
     "text": [
      "RanksumsResult(statistic=-3.516483897127281, pvalue=0.0004373031844381487)\n",
      "RanksumsResult(statistic=7.035801383212762, pvalue=1.9811898334816526e-12)\n",
      "RanksumsResult(statistic=8.021890340666666, pvalue=1.04130083433512e-15)\n",
      "RanksumsResult(statistic=5.72668328452396, pvalue=1.024131071390984e-08)\n",
      "RanksumsResult(statistic=5.76068635202237, pvalue=8.377258251250666e-09)\n",
      "RanksumsResult(statistic=7.551514573605321, pvalue=4.302253922704849e-14)\n"
     ]
    }
   ],
   "source": [
    "for j in range(6):\n",
    "    print(ranksums([i[1] for i in results_unet_sr_mwf_6_echo_6_classes_lesion[j]],\n",
    "                    [i[1] for i in results_mlp_sr_mwf_6_echo_6_classes_lesion[j]]))"
   ]
  },
  {
   "cell_type": "markdown",
   "id": "b8b8d5d3",
   "metadata": {},
   "source": [
    "### 1.5.c Saving"
   ]
  },
  {
   "cell_type": "code",
   "execution_count": 29,
   "id": "73e6e4d6",
   "metadata": {},
   "outputs": [],
   "source": [
    "np.save(\"dataset-1-mwf-pred-w-sr-6-echo-6-classes-whole-brain-fov-bn.npy\", \n",
    "        [results_unet_sr_mwf_6_echo_6_classes, results_mlp_sr_mwf_6_echo_6_classes])\n",
    "\n",
    "np.save(\"dataset-1-mwf-pred-w-sr-6-echo-6-classes-lesion-fov-bn.npy\", \n",
    "        [results_unet_sr_mwf_6_echo_6_classes_lesion, results_mlp_sr_mwf_6_echo_6_classes_lesion])"
   ]
  },
  {
   "cell_type": "markdown",
   "id": "8cc1f325",
   "metadata": {},
   "source": [
    "## 1.1 Test MWF pred w/SR w/6 echoes"
   ]
  },
  {
   "cell_type": "code",
   "execution_count": 17,
   "id": "cf02445b",
   "metadata": {},
   "outputs": [],
   "source": [
    "labels, brains, mask_array, lesion_mask_array, \\\n",
    "label2245, brain2245, mask2245, lesion2245 = loadData(numbers, 6, True, 1)"
   ]
  },
  {
   "cell_type": "code",
   "execution_count": 18,
   "id": "e4c8416c",
   "metadata": {},
   "outputs": [],
   "source": [
    "stats = getStats(6, True, 1)"
   ]
  },
  {
   "cell_type": "markdown",
   "id": "11690d74",
   "metadata": {},
   "source": [
    "### 1.1.a UNET"
   ]
  },
  {
   "cell_type": "code",
   "execution_count": 19,
   "id": "9c125429",
   "metadata": {},
   "outputs": [],
   "source": [
    "state_dict = \"../unet_models/unet_mwf_only_plus_sr_ckpt_epoch_30.ckpt\""
   ]
  },
  {
   "cell_type": "code",
   "execution_count": 147,
   "id": "b6762842",
   "metadata": {},
   "outputs": [],
   "source": [
    "# %ls results_v3\n",
    "# !mkdir \"results_v3/unet-sr-mwf-6-echo\"\n",
    "# !mkdir \"results_v3/unet-sr-mwf-6-echo/MWF\""
   ]
  },
  {
   "cell_type": "code",
   "execution_count": 20,
   "id": "670f783d",
   "metadata": {},
   "outputs": [],
   "source": [
    "results_unet_sr_mwf_6_echo = calculateResultsErrorTableUNETTuning(state_dict, stats, \n",
    "                                                                  brains, labels, \n",
    "                                                                  mask_array, numbers, \n",
    "                                                                  save=True, folder=\"unet-sr-mwf-6-echo\")"
   ]
  },
  {
   "cell_type": "code",
   "execution_count": 21,
   "id": "c42bda32",
   "metadata": {},
   "outputs": [
    {
     "name": "stdout",
     "output_type": "stream",
     "text": [
      "0.440±0.071\n"
     ]
    }
   ],
   "source": [
    "for j in range(1):\n",
    "    data = [i[1] for i in results_unet_sr_mwf_6_echo[j]]\n",
    "    print(f\"{'{:.3f}'.format(np.mean(data))}±{'{:.3f}'.format(np.std(data))}\")"
   ]
  },
  {
   "cell_type": "code",
   "execution_count": 22,
   "id": "6e98ea64",
   "metadata": {},
   "outputs": [],
   "source": [
    "results_unet_sr_mwf_6_echo_lesion = calculateResultsErrorTableUNETTuning(state_dict, stats, \n",
    "                                                                         brains, labels, \n",
    "                                                                         mask_array, numbers,\n",
    "                                                                         lesions=lesion_mask_array, lesion=True,\n",
    "                                                                         save=False)"
   ]
  },
  {
   "cell_type": "code",
   "execution_count": 23,
   "id": "bc64d4de",
   "metadata": {},
   "outputs": [
    {
     "name": "stdout",
     "output_type": "stream",
     "text": [
      "0.402±0.138\n"
     ]
    }
   ],
   "source": [
    "for j in range(1):\n",
    "    data = [i[1] for i in results_unet_sr_mwf_6_echo_lesion[j]]\n",
    "    print(f\"{'{:.3f}'.format(np.mean(data))}±{'{:.3f}'.format(np.std(data))}\")"
   ]
  },
  {
   "cell_type": "markdown",
   "id": "63776be1",
   "metadata": {},
   "source": [
    "### 1.1.b MLP"
   ]
  },
  {
   "cell_type": "code",
   "execution_count": 154,
   "id": "67d3cc5b",
   "metadata": {},
   "outputs": [],
   "source": [
    "# %ls results_v3\n",
    "# !mkdir \"results_v3/mlp-sr-mwf-6-echo\"\n",
    "# !mkdir \"results_v3/mlp-sr-mwf-6-echo/MWF\""
   ]
  },
  {
   "cell_type": "code",
   "execution_count": 22,
   "id": "7b0e4232",
   "metadata": {},
   "outputs": [],
   "source": [
    "state_dict = \"../mlp_models/mlp_mwf_only_plus_sr_ckpt_epoch_12.ckpt\""
   ]
  },
  {
   "cell_type": "code",
   "execution_count": 23,
   "id": "8076229b",
   "metadata": {},
   "outputs": [],
   "source": [
    "results_mlp_sr_mwf_6_echo = calculateResultsErrorTableMLP(state_dict, stats, \n",
    "                                                          brains, labels, \n",
    "                                                          mask_array, numbers, \n",
    "                                                          save=True, folder=\"mlp-sr-mwf-6-echo\")"
   ]
  },
  {
   "cell_type": "code",
   "execution_count": 24,
   "id": "08872c09",
   "metadata": {},
   "outputs": [
    {
     "name": "stdout",
     "output_type": "stream",
     "text": [
      "1.153±0.121\n"
     ]
    }
   ],
   "source": [
    "for j in range(1):\n",
    "    data = [i[1] for i in results_mlp_sr_mwf_6_echo[j]]\n",
    "    print(f\"{'{:.3f}'.format(np.mean(data))}±{'{:.3f}'.format(np.std(data))}\")"
   ]
  },
  {
   "cell_type": "code",
   "execution_count": 27,
   "id": "fa02c1b1",
   "metadata": {},
   "outputs": [],
   "source": [
    "results_mlp_sr_mwf_6_echo_lesion = calculateResultsErrorTableMLP(state_dict, stats, \n",
    "                                                                 brains, labels, \n",
    "                                                                 mask_array, numbers, \n",
    "                                                                 lesions=lesion_mask_array, lesion=True,\n",
    "                                                                 save=False)"
   ]
  },
  {
   "cell_type": "code",
   "execution_count": 28,
   "id": "2f56658d",
   "metadata": {},
   "outputs": [
    {
     "name": "stdout",
     "output_type": "stream",
     "text": [
      "1.236±0.330\n"
     ]
    }
   ],
   "source": [
    "for j in range(1):\n",
    "    data = [i[1] for i in results_mlp_sr_mwf_6_echo_lesion[j]]\n",
    "    print(f\"{'{:.3f}'.format(np.mean(data))}±{'{:.3f}'.format(np.std(data))}\")"
   ]
  },
  {
   "cell_type": "code",
   "execution_count": 23,
   "id": "b0e1bfe4",
   "metadata": {},
   "outputs": [
    {
     "name": "stdout",
     "output_type": "stream",
     "text": [
      "RanksumsResult(statistic=-9.682763320034782, pvalue=3.569355687242394e-22)\n"
     ]
    }
   ],
   "source": [
    "print(ranksums([i[1] for i in results_unet_sr_mwf_6_echo[0]],\n",
    "                [i[1] for i in results_mlp_sr_mwf_6_echo[0]]))"
   ]
  },
  {
   "cell_type": "code",
   "execution_count": 26,
   "id": "9a0c8b91",
   "metadata": {
    "scrolled": true
   },
   "outputs": [
    {
     "name": "stdout",
     "output_type": "stream",
     "text": [
      "RanksumsResult(statistic=-9.14399156811421, pvalue=6.018877684928938e-20)\n"
     ]
    }
   ],
   "source": [
    "print(ranksums([i[1] for i in results_unet_sr_mwf_6_echo_lesion[0]],\n",
    "                [i[1] for i in results_mlp_sr_mwf_6_echo_lesion[0]]))"
   ]
  },
  {
   "cell_type": "markdown",
   "id": "28c29e85",
   "metadata": {},
   "source": [
    "### 1.1.c Saving"
   ]
  },
  {
   "cell_type": "code",
   "execution_count": 47,
   "id": "0b6a227c",
   "metadata": {},
   "outputs": [],
   "source": [
    "np.save(\"dataset-1-mwf-pred-w-sr-6-echo-whole-brain-bn.npy\", \n",
    "        [results_unet_sr_mwf_6_echo, results_mlp_sr_mwf_6_echo])"
   ]
  },
  {
   "cell_type": "code",
   "execution_count": 48,
   "id": "9bac3651",
   "metadata": {},
   "outputs": [],
   "source": [
    "np.save(\"dataset-1-mwf-pred-w-sr-6-echo-lesion-bn.npy\", \n",
    "        [results_unet_sr_mwf_6_echo_lesion, results_mlp_sr_mwf_6_echo_lesion])"
   ]
  },
  {
   "cell_type": "markdown",
   "id": "2a786173",
   "metadata": {},
   "source": [
    "### Looking at error distribution for case 2103"
   ]
  },
  {
   "cell_type": "code",
   "execution_count": 49,
   "id": "464c68ab",
   "metadata": {},
   "outputs": [],
   "source": [
    "mask = load_nii(\"../2103/tightmask.nii.gz\")"
   ]
  },
  {
   "cell_type": "code",
   "execution_count": 50,
   "id": "4577434c",
   "metadata": {},
   "outputs": [
    {
     "data": {
      "image/png": "[encoded data removed]",
      "text/plain": [
       "<Figure size 1080x1080 with 6 Axes>"
      ]
     },
     "metadata": {
      "needs_background": "light"
     },
     "output_type": "display_data"
    }
   ],
   "source": [
    "fig, axs = plt.subplots(3, 2, figsize=(15,15))\n",
    "for i in range(3):\n",
    "    features = [\"MWF\", \"IEWF\", \"CSFF\"]\n",
    "    feature = features[i]\n",
    "    u = load_nii(f\"results_v3/unet-sr-mwf-6-echo-6-classes/{feature}/2103_err_UNET_{feature}_real.nii.gz\")\n",
    "    l = load_nii(f\"results_v3/unet-sr-mwf-6-echo-6-classes/{feature}/2103_label_UNET_{feature}_real.nii.gz\")\n",
    "    u = u[mask == 1]\n",
    "    l = l[mask == 1]\n",
    "    a = load_nii(f\"results_v3/mlp-sr-mwf-6-echo-6-classes/{feature}/2103_err_MLP_real.nii.gz\")[mask == 1]\n",
    "    axs[i][0].hist(u, bins=100, alpha=0.5, label='UNET')\n",
    "    axs[i][0].hist(a, bins=100, alpha=0.5, label='MLP')\n",
    "    axs[i][0].legend(loc='best')\n",
    "    axs[i][0].title.set_text(feature)\n",
    "    \n",
    "    feature = features[i]+\"_T2\"\n",
    "    u = load_nii(f\"results_v3/unet-sr-mwf-6-echo-6-classes/{feature}/2103_err_UNET_{feature}_real.nii.gz\")\n",
    "    l = load_nii(f\"results_v3/unet-sr-mwf-6-echo-6-classes/{feature}/2103_label_UNET_{feature}_real.nii.gz\")\n",
    "    u = u[mask == 1]\n",
    "    l = l[mask == 1]\n",
    "    a = load_nii(f\"results_v3/mlp-sr-mwf-6-echo-6-classes/{feature}/2103_err_MLP_real.nii.gz\")[mask == 1]\n",
    "    axs[i][1].hist(u, bins=100, alpha=0.5, label='UNET')\n",
    "    axs[i][1].hist(a, bins=100, alpha=0.5, label='MLP')\n",
    "    axs[i][1].legend(loc='best')\n",
    "    axs[i][1].title.set_text(feature)"
   ]
  },
  {
   "cell_type": "markdown",
   "id": "d3edb0aa",
   "metadata": {},
   "source": [
    "## 1.2 Test MWF pred w/o SR w/6 echoes"
   ]
  },
  {
   "cell_type": "code",
   "execution_count": 65,
   "id": "92207595",
   "metadata": {},
   "outputs": [],
   "source": [
    "labels, brains, mask_array, lesion_mask_array = loadData(numbers, 6, False, 1)"
   ]
  },
  {
   "cell_type": "code",
   "execution_count": 66,
   "id": "9ffa91c0",
   "metadata": {},
   "outputs": [],
   "source": [
    "stats = getStats(6, False, 1)"
   ]
  },
  {
   "cell_type": "markdown",
   "id": "79888da4",
   "metadata": {},
   "source": [
    "### 1.2.a UNET"
   ]
  },
  {
   "cell_type": "code",
   "execution_count": 67,
   "id": "fee43b14",
   "metadata": {},
   "outputs": [],
   "source": [
    "state_dict = \"../unet_models/unet_no_sr_ckpt_epoch_39.ckpt\""
   ]
  },
  {
   "cell_type": "code",
   "execution_count": 68,
   "id": "196a8651",
   "metadata": {},
   "outputs": [],
   "source": [
    "# %ls results_v3\n",
    "# !mkdir \"results_v3/unet-no-sr-mwf-6-echo\"\n",
    "# !mkdir \"results_v3/unet-no-sr-mwf-6-echo/MWF\""
   ]
  },
  {
   "cell_type": "code",
   "execution_count": 69,
   "id": "8aeefc5a",
   "metadata": {},
   "outputs": [],
   "source": [
    "results_unet_no_sr_mwf_6_echo = calculateResultsErrorTableUNETTuning(state_dict, stats,   \n",
    "                                                                     brains, labels,\n",
    "                                                                     mask_array, numbers,\n",
    "                                                                     save=True, folder=\"unet-no-sr-mwf-6-echo\")"
   ]
  },
  {
   "cell_type": "code",
   "execution_count": 70,
   "id": "9f55e4e4",
   "metadata": {},
   "outputs": [
    {
     "name": "stdout",
     "output_type": "stream",
     "text": [
      "0.515±0.070\n"
     ]
    }
   ],
   "source": [
    "for j in range(1):\n",
    "    data = [i[1] for i in results_unet_no_sr_mwf_6_echo[j]]\n",
    "    print(f\"{'{:.3f}'.format(np.mean(data))}±{'{:.3f}'.format(np.std(data))}\")"
   ]
  },
  {
   "cell_type": "code",
   "execution_count": 42,
   "id": "987535d7",
   "metadata": {},
   "outputs": [],
   "source": [
    "results_unet_no_sr_mwf_6_echo_lesion = calculateResultsErrorTableUNETTuning(state_dict, stats, \n",
    "                                                                            brains, labels, \n",
    "                                                                            mask_array, numbers,\n",
    "                                                                            lesions=lesion_mask_array, lesion=True,\n",
    "                                                                            save=False)"
   ]
  },
  {
   "cell_type": "code",
   "execution_count": 43,
   "id": "fd77a422",
   "metadata": {},
   "outputs": [
    {
     "name": "stdout",
     "output_type": "stream",
     "text": [
      "0.850±0.230\n"
     ]
    }
   ],
   "source": [
    "for j in range(1):\n",
    "    data = [i[1] for i in results_unet_no_sr_mwf_6_echo_lesion[j]]\n",
    "    print(f\"{'{:.3f}'.format(np.mean(data))}±{'{:.3f}'.format(np.std(data))}\")"
   ]
  },
  {
   "cell_type": "markdown",
   "id": "51768dc7",
   "metadata": {},
   "source": [
    "### 1.2.b MLP"
   ]
  },
  {
   "cell_type": "code",
   "execution_count": 220,
   "id": "00c95d21",
   "metadata": {},
   "outputs": [],
   "source": [
    "# %ls results_v3\n",
    "# !mkdir \"results_v3/mlp-no-sr-mwf-6-echo\"\n",
    "# !mkdir \"results_v3/mlp-no-sr-mwf-6-echo/MWF\""
   ]
  },
  {
   "cell_type": "code",
   "execution_count": 31,
   "id": "5ba1f281",
   "metadata": {},
   "outputs": [],
   "source": [
    "state_dict = \"../mlp_models/mlp_no_sr_ckpt_epoch_4.ckpt\""
   ]
  },
  {
   "cell_type": "code",
   "execution_count": 32,
   "id": "2bf4195c",
   "metadata": {},
   "outputs": [],
   "source": [
    "results_mlp_no_sr_mwf_6_echo = calculateResultsErrorTableMLP(state_dict, stats, \n",
    "                                                             brains, labels, \n",
    "                                                             mask_array, numbers, \n",
    "                                                             save=True, folder=\"mlp-no-sr-mwf-6-echo\")"
   ]
  },
  {
   "cell_type": "code",
   "execution_count": 33,
   "id": "ddd1a3ae",
   "metadata": {},
   "outputs": [
    {
     "name": "stdout",
     "output_type": "stream",
     "text": [
      "0.303±0.050\n"
     ]
    }
   ],
   "source": [
    "for j in range(1):\n",
    "    data = [i[1] for i in results_mlp_no_sr_mwf_6_echo[j]]\n",
    "    print(f\"{'{:.3f}'.format(np.mean(data))}±{'{:.3f}'.format(np.std(data))}\")"
   ]
  },
  {
   "cell_type": "code",
   "execution_count": 47,
   "id": "0d446e53",
   "metadata": {},
   "outputs": [],
   "source": [
    "results_mlp_no_sr_mwf_6_echo_lesion = calculateResultsErrorTableMLP(state_dict, stats, \n",
    "                                                                    brains, labels, \n",
    "                                                                    mask_array, numbers, \n",
    "                                                                    lesions=lesion_mask_array, lesion=True,\n",
    "                                                                    save=False)"
   ]
  },
  {
   "cell_type": "code",
   "execution_count": 48,
   "id": "7bf69825",
   "metadata": {},
   "outputs": [
    {
     "name": "stdout",
     "output_type": "stream",
     "text": [
      "0.411±0.138\n"
     ]
    }
   ],
   "source": [
    "for j in range(1):\n",
    "    data = [i[1] for i in results_mlp_no_sr_mwf_6_echo_lesion[j]]\n",
    "    print(f\"{'{:.3f}'.format(np.mean(data))}±{'{:.3f}'.format(np.std(data))}\")"
   ]
  },
  {
   "cell_type": "markdown",
   "id": "1817e439",
   "metadata": {},
   "source": [
    "### 1.2.c Saving"
   ]
  },
  {
   "cell_type": "code",
   "execution_count": 63,
   "id": "6799cb69",
   "metadata": {},
   "outputs": [],
   "source": [
    "np.save(\"dataset-1-mwf-pred-wo-sr-6-echo-whole-brain-bn.npy\", \n",
    "        [results_unet_no_sr_mwf_6_echo, results_mlp_no_sr_mwf_6_echo])"
   ]
  },
  {
   "cell_type": "code",
   "execution_count": 64,
   "id": "b1fb3b77",
   "metadata": {},
   "outputs": [],
   "source": [
    "np.save(\"dataset-1-mwf-pred-wo-sr-6-echo-lesion-bn.npy\", \n",
    "        [results_unet_no_sr_mwf_6_echo_lesion, results_mlp_no_sr_mwf_6_echo_lesion])"
   ]
  },
  {
   "cell_type": "code",
   "execution_count": 28,
   "id": "d983c8ca",
   "metadata": {},
   "outputs": [
    {
     "name": "stdout",
     "output_type": "stream",
     "text": [
      "RanksumsResult(statistic=-8.242910279406333, pvalue=1.680716054210941e-16)\n"
     ]
    }
   ],
   "source": [
    "print(ranksums([i[1] for i in results_mlp_no_sr_mwf_6_echo_lesion[0]],\n",
    "                [i[1] for i in results_unet_no_sr_mwf_6_echo_lesion[0]]))"
   ]
  },
  {
   "cell_type": "code",
   "execution_count": 29,
   "id": "a237ae2b",
   "metadata": {},
   "outputs": [
    {
     "name": "stdout",
     "output_type": "stream",
     "text": [
      "RanksumsResult(statistic=-9.492474698477032, pvalue=2.2561338478986385e-21)\n"
     ]
    }
   ],
   "source": [
    "print(ranksums([i[1] for i in results_mlp_no_sr_mwf_6_echo[0]],\n",
    "                [i[1] for i in results_unet_no_sr_mwf_6_echo[0]]))"
   ]
  },
  {
   "cell_type": "markdown",
   "id": "3915e2c7",
   "metadata": {},
   "source": [
    "## 1.3 Test MWF Pred w/SR w/32 echoes"
   ]
  },
  {
   "cell_type": "code",
   "execution_count": 52,
   "id": "51913aa2",
   "metadata": {},
   "outputs": [],
   "source": [
    "labels, brains, mask_array, lesion_mask_array = loadData(numbers, 32, True, 1, 200)"
   ]
  },
  {
   "cell_type": "code",
   "execution_count": 53,
   "id": "7d9f8df5",
   "metadata": {},
   "outputs": [],
   "source": [
    "stats = getStats(32, True, 1)"
   ]
  },
  {
   "cell_type": "code",
   "execution_count": 54,
   "id": "88f3dc35",
   "metadata": {},
   "outputs": [
    {
     "data": {
      "text/plain": [
       "array([[7.20214986, 4.25906068]])"
      ]
     },
     "execution_count": 54,
     "metadata": {},
     "output_type": "execute_result"
    }
   ],
   "source": [
    "stats"
   ]
  },
  {
   "cell_type": "markdown",
   "id": "2bb0cfcd",
   "metadata": {},
   "source": [
    "#### 1.4.a.1 UNET"
   ]
  },
  {
   "cell_type": "code",
   "execution_count": 55,
   "id": "e7032072",
   "metadata": {},
   "outputs": [],
   "source": [
    "state_dict = \"../unet_models/unet_32_echo_ckpt_epoch_19.ckpt\""
   ]
  },
  {
   "cell_type": "code",
   "execution_count": 244,
   "id": "1a916561",
   "metadata": {},
   "outputs": [],
   "source": [
    "# %ls results_v3\n",
    "# !mkdir \"results_v3/unet-sr-mwf-32-echo-200-snr\"\n",
    "# !mkdir \"results_v3/unet-sr-mwf-32-echo-200-snr/MWF\""
   ]
  },
  {
   "cell_type": "code",
   "execution_count": null,
   "id": "1748c0d2",
   "metadata": {},
   "outputs": [],
   "source": [
    "results_unet_sr_mwf_32_echo_snr_200 = calculateResultsErrorTableUNETTuning(state_dict, stats, \n",
    "                                                                           brains, labels, \n",
    "                                                                           mask_array, numbers, \n",
    "                                                                           save=True, \n",
    "                                                                           folder=\"unet-sr-mwf-32-echo-200-snr\", \n",
    "                                                                           inChannels = 32)"
   ]
  },
  {
   "cell_type": "code",
   "execution_count": 61,
   "id": "4efb0db2",
   "metadata": {},
   "outputs": [
    {
     "name": "stdout",
     "output_type": "stream",
     "text": [
      "1.151±0.106\n"
     ]
    }
   ],
   "source": [
    "for j in range(1):\n",
    "    data = [i[1] for i in results_unet_sr_mwf_32_echo_snr_200[j]]\n",
    "    print(f\"{'{:.3f}'.format(np.mean(data))}±{'{:.3f}'.format(np.std(data))}\")"
   ]
  },
  {
   "cell_type": "code",
   "execution_count": 14,
   "id": "785d3e1c",
   "metadata": {},
   "outputs": [],
   "source": [
    "results_unet_sr_mwf_32_echo_snr_200_lesion = calculateResultsErrorTableUNETTuning(state_dict, stats, \n",
    "                                                                                  brains, labels, \n",
    "                                                                                  mask_array, numbers,\n",
    "                                                                                  lesions=lesion_mask_array, \n",
    "                                                                                  lesion=True,\n",
    "                                                                                  save=False, inChannels = 32)"
   ]
  },
  {
   "cell_type": "code",
   "execution_count": 15,
   "id": "eb6f5ae7",
   "metadata": {},
   "outputs": [
    {
     "name": "stdout",
     "output_type": "stream",
     "text": [
      "1.139±0.214\n"
     ]
    }
   ],
   "source": [
    "for j in range(1):\n",
    "    data = [i[1] for i in results_unet_sr_mwf_32_echo_snr_200_lesion[j]]\n",
    "    print(f\"{'{:.3f}'.format(np.mean(data))}±{'{:.3f}'.format(np.std(data))}\")"
   ]
  },
  {
   "cell_type": "markdown",
   "id": "449cc554",
   "metadata": {},
   "source": [
    "#### 1.4.a.2 MLP"
   ]
  },
  {
   "cell_type": "code",
   "execution_count": 245,
   "id": "be23a7a0",
   "metadata": {},
   "outputs": [],
   "source": [
    "# %ls results_v3\n",
    "# !mkdir \"results_v3/mlp-sr-mwf-32-echo-200-snr\"\n",
    "# !mkdir \"results_v3/mlp-sr-mwf-32-echo-200-snr/MWF\""
   ]
  },
  {
   "cell_type": "code",
   "execution_count": null,
   "id": "699de05d",
   "metadata": {},
   "outputs": [],
   "source": [
    "state_dict = \"../mlp_models/mlp_32_echo_ckpt_epoch_24.ckpt\""
   ]
  },
  {
   "cell_type": "code",
   "execution_count": null,
   "id": "0a426d22",
   "metadata": {},
   "outputs": [],
   "source": [
    "results_mlp_sr_mwf_32_echo_snr_200 = calculateResultsErrorTableMLP(state_dict, stats, \n",
    "                                                                   brains, labels, \n",
    "                                                                   mask_array, numbers, \n",
    "                                                                   save=True, folder=\"mlp-sr-mwf-32-echo-200-snr\", \n",
    "                                                                   inChannels = 32)"
   ]
  },
  {
   "cell_type": "code",
   "execution_count": 62,
   "id": "ea69555d",
   "metadata": {},
   "outputs": [
    {
     "name": "stdout",
     "output_type": "stream",
     "text": [
      "2.269±0.128\n"
     ]
    }
   ],
   "source": [
    "for j in range(1):\n",
    "    data = [i[1] for i in results_mlp_sr_mwf_32_echo_snr_200[j]]\n",
    "    print(f\"{'{:.3f}'.format(np.mean(data))}±{'{:.3f}'.format(np.std(data))}\")"
   ]
  },
  {
   "cell_type": "code",
   "execution_count": 34,
   "id": "21c9e0b6",
   "metadata": {},
   "outputs": [],
   "source": [
    "results_mlp_sr_mwf_32_echo_snr_200_lesion = calculateResultsErrorTableMLP(state_dict, stats, \n",
    "                                                                          brains, labels, \n",
    "                                                                          mask_array, numbers, \n",
    "                                                                          lesions=lesion_mask_array, lesion=True,\n",
    "                                                                          save=False, inChannels = 32)"
   ]
  },
  {
   "cell_type": "code",
   "execution_count": 35,
   "id": "0e89eb2e",
   "metadata": {},
   "outputs": [
    {
     "name": "stdout",
     "output_type": "stream",
     "text": [
      "1.941±0.231\n"
     ]
    }
   ],
   "source": [
    "for j in range(1):\n",
    "    data = [i[1] for i in results_mlp_sr_mwf_32_echo_snr_200_lesion[j]]\n",
    "    print(f\"{'{:.3f}'.format(np.mean(data))}±{'{:.3f}'.format(np.std(data))}\")"
   ]
  },
  {
   "cell_type": "markdown",
   "id": "e9437d55",
   "metadata": {},
   "source": [
    "#### 1.4.a.3 Saving"
   ]
  },
  {
   "cell_type": "code",
   "execution_count": 246,
   "id": "ec4a17b5",
   "metadata": {},
   "outputs": [],
   "source": [
    "np.save(\"dataset-1-mwf-pred-w-sr-32-echo-200-snr-whole-brain-bn.npy\", \n",
    "        [results_unet_sr_mwf_32_echo_snr_200, results_mlp_sr_mwf_32_echo_snr_200])\n",
    "\n",
    "np.save(\"dataset-1-mwf-pred-w-sr-32-echo-200-snr-lesion-bn.npy\", \n",
    "        [results_unet_sr_mwf_32_echo_snr_200_lesion, results_mlp_sr_mwf_32_echo_snr_200_lesion])"
   ]
  },
  {
   "cell_type": "code",
   "execution_count": 36,
   "id": "4ddd83db",
   "metadata": {
    "scrolled": true
   },
   "outputs": [
    {
     "name": "stdout",
     "output_type": "stream",
     "text": [
      "RanksumsResult(statistic=-9.682763320034782, pvalue=3.569355687242394e-22)\n"
     ]
    }
   ],
   "source": [
    "print(ranksums([i[1] for i in results_unet_sr_mwf_32_echo_snr_200[0]],\n",
    "               [i[1] for i in results_mlp_sr_mwf_32_echo_snr_200[0]]))"
   ]
  },
  {
   "cell_type": "code",
   "execution_count": 54,
   "id": "679fa0f6",
   "metadata": {},
   "outputs": [
    {
     "name": "stdout",
     "output_type": "stream",
     "text": [
      "RanksumsResult(statistic=-9.04764954353538, pvalue=1.4607874731309525e-19)\n"
     ]
    }
   ],
   "source": [
    "print(ranksums([i[1] for i in results_unet_sr_mwf_32_echo_snr_200_lesion[0]],\n",
    "               [i[1] for i in results_mlp_sr_mwf_32_echo_snr_200_lesion[0]]))"
   ]
  },
  {
   "cell_type": "markdown",
   "id": "672926a8",
   "metadata": {},
   "source": [
    "## 1.6 Trying out Simulations for MWF w/SR w/6 echo "
   ]
  },
  {
   "cell_type": "code",
   "execution_count": 191,
   "id": "1b6eda2e",
   "metadata": {},
   "outputs": [],
   "source": [
    "# %ls results_v3\n",
    "# !mkdir \"results_v3/mlp-2245-simulations\"\n",
    "# !mkdir \"results_v3/mlp-2245-simulations/MWF\"\n",
    "# !mkdir \"results_v3/unet-2245-simulations\"\n",
    "# !mkdir \"results_v3/unet-2245-simulations/MWF\""
   ]
  },
  {
   "cell_type": "code",
   "execution_count": 45,
   "id": "37530467",
   "metadata": {},
   "outputs": [],
   "source": [
    "def compressResults(results):\n",
    "    snrLevels = [\"res256snr200\", \"res256snr200Lesion\", \"res256snr100\", \n",
    "                 \"res256snr100Lesion\", \"res256snr50\", \"res256snr50Lesion\"]\n",
    "    resultsAvg = {}\n",
    "    resultsStd = {}\n",
    "    for snrLevel in snrLevels:\n",
    "        resultsAvg[snrLevel] = np.mean(np.array([run[0][0][1] for run in results[snrLevel]]))\n",
    "        resultsStd[snrLevel] = np.std(np.array([run[0][0][1] for run in results[snrLevel]]))\n",
    "    return resultsAvg, resultsStd"
   ]
  },
  {
   "cell_type": "code",
   "execution_count": 25,
   "id": "b8de590c",
   "metadata": {},
   "outputs": [],
   "source": [
    "def generateBrain(cleanBrain, mask, noise):\n",
    "    brain = cleanBrain.copy()\n",
    "    brain += noise\n",
    "    brain *= mask\n",
    "    return brain"
   ]
  },
  {
   "cell_type": "code",
   "execution_count": 65,
   "id": "88fed776",
   "metadata": {},
   "outputs": [],
   "source": [
    "labels, brains, mask_array, lesion_mask_array, \\\n",
    "label2245, brain2245, mask2245, lesion2245 = loadData(['2245'], 6, True, 1)"
   ]
  },
  {
   "cell_type": "code",
   "execution_count": 66,
   "id": "85fb1f76",
   "metadata": {},
   "outputs": [],
   "source": [
    "state_dict_unet = \"../unet_models/unet_mwf_only_plus_sr_ckpt_epoch_30.ckpt\"\n",
    "state_dict_mlp = \"../mlp_models/mlp_mwf_only_plus_sr_ckpt_epoch_12.ckpt\""
   ]
  },
  {
   "cell_type": "code",
   "execution_count": 67,
   "id": "b43a1624",
   "metadata": {},
   "outputs": [],
   "source": [
    "stats = getStats(6, True, 1)"
   ]
  },
  {
   "cell_type": "code",
   "execution_count": 68,
   "id": "19f4b062",
   "metadata": {},
   "outputs": [],
   "source": [
    "unetSimData = {\n",
    "    \"res256snr200\": [],\n",
    "    \"res256snr200Lesion\": [],\n",
    "    \"res256snr100\": [],\n",
    "    \"res256snr100Lesion\": [],\n",
    "    \"res256snr50\": [],\n",
    "    \"res256snr50Lesion\": [],\n",
    "}\n",
    "unetMinSums = {\n",
    "    200: -1,\n",
    "    100: -1,\n",
    "    50: -1,\n",
    "}\n",
    "mlpSimData = {\n",
    "    \"res256snr200\": [],\n",
    "    \"res256snr200Lesion\": [],\n",
    "    \"res256snr100\": [],\n",
    "    \"res256snr100Lesion\": [],\n",
    "    \"res256snr50\": [],\n",
    "    \"res256snr50Lesion\": [],\n",
    "}\n",
    "mlpMinSums = {\n",
    "    200: -1,\n",
    "    100: -1,\n",
    "    50: -1,\n",
    "}"
   ]
  },
  {
   "cell_type": "code",
   "execution_count": 69,
   "id": "af36b34f",
   "metadata": {},
   "outputs": [
    {
     "name": "stderr",
     "output_type": "stream",
     "text": [
      "100%|██████████| 500/500 [49:45<00:00,  5.97s/it]\n"
     ]
    }
   ],
   "source": [
    "roi = load_nii(\"roi.nii.gz\")\n",
    "NUM_BRAINS = len(brain2245)\n",
    "\n",
    "for i in tqdm(range(500)):\n",
    "    SNRs = [200, 100, 50]\n",
    "    for SNR in SNRs:\n",
    "    # Generating Brain\n",
    "        noise = np.random.normal(size=(NUM_BRAINS,) + brain2245[0].shape, \n",
    "                                 scale=(brain2245[0,0][roi == 1].mean()/SNR))\n",
    "        simBrain256 = generateBrain(brain2245, mask2245, noise)\n",
    "        # Testing Brain\n",
    "        tempResUNET = calculateResultsErrorTableUNETTuning(state_dict_unet, stats, \n",
    "                                                           simBrain256, label2245, \n",
    "                                                           mask2245, [SIM_BRAIN], \n",
    "                                                           save = False)\n",
    "        tempResLesionUNET = calculateResultsErrorTableUNETTuning(state_dict_unet, stats, \n",
    "                                                                 simBrain256, label2245, \n",
    "                                                                 mask2245, [SIM_BRAIN], \n",
    "                                                                 lesions = lesion2245, lesion=True, \n",
    "                                                                 save = False)\n",
    "        tempResMLP = calculateResultsErrorTableMLP(state_dict_mlp, stats, \n",
    "                                                   simBrain256, label2245, \n",
    "                                                   mask2245, [SIM_BRAIN], \n",
    "                                                   save = False)\n",
    "        tempResLesionMLP = calculateResultsErrorTableMLP(state_dict_mlp, stats, \n",
    "                                                         simBrain256, label2245, \n",
    "                                                         mask2245, [SIM_BRAIN], \n",
    "                                                         lesions = lesion2245, lesion=True, \n",
    "                                                         save = False)\n",
    "        unetSimData[f\"res256snr{SNR}\"].append(tempResUNET)\n",
    "        unetSimData[f\"res256snr{SNR}Lesion\"].append(tempResLesionUNET)\n",
    "        mlpSimData[f\"res256snr{SNR}\"].append(tempResMLP)\n",
    "        mlpSimData[f\"res256snr{SNR}Lesion\"].append(tempResLesionMLP)\n",
    "\n",
    "        dataUNET = [i[1] for i in tempResUNET[0]]\n",
    "        dataMLP = [i[1] for i in tempResMLP[0]]\n",
    "        if (unetMinSums[SNR] == -1 or sum(dataUNET) < unetMinSums[SNR]):\n",
    "            unetMinSums[SNR] = sum(dataUNET)\n",
    "            calculateResultsErrorTableUNETTuning(state_dict_unet, stats, \n",
    "                                                 simBrain256, label2245, \n",
    "                                                 mask2245, [SIM_BRAIN],\n",
    "                                                 save = True, brainType = f'256sim_snr{SNR}',\n",
    "                                                 folder = \"unet-2245-simulations\")\n",
    "            save_nii(simBrain256[0].transpose((1,2,3,0)), \n",
    "                     f\"results_v3/unet-2245-simulations/MWF/fastt2_snr{SNR}.nii.gz\",\n",
    "                     \"../2245/FASTT2_FULL.nii.gz\")\n",
    "        if (mlpMinSums[SNR] == -1 or sum(dataMLP) < mlpMinSums[SNR]):\n",
    "            mlpMinSums[SNR] = sum(dataMLP)\n",
    "            calculateResultsErrorTableMLP(state_dict_mlp, stats, \n",
    "                                          simBrain256, label2245, \n",
    "                                          mask2245, [SIM_BRAIN], \n",
    "                                          save = True, brainType = f'256sim_snr{SNR}', \n",
    "                                          folder = \"mlp-2245-simulations\")\n",
    "            save_nii(simBrain256[0].transpose((1,2,3,0)), \n",
    "                     f\"results_v3/mlp-2245-simulations/MWF/fastt2_snr{SNR}.nii.gz\",\n",
    "                     \"../2245/FASTT2_FULL.nii.gz\")"
   ]
  },
  {
   "cell_type": "code",
   "execution_count": 94,
   "id": "9a777115",
   "metadata": {},
   "outputs": [],
   "source": [
    "unetSimAvg, unetSimStd = compressResults(unetSimData)"
   ]
  },
  {
   "cell_type": "code",
   "execution_count": 95,
   "id": "1591a316",
   "metadata": {},
   "outputs": [
    {
     "name": "stdout",
     "output_type": "stream",
     "text": [
      "0.827±0.002\n",
      "0.875±0.031\n",
      "1.037±0.004\n",
      "1.043±0.059\n",
      "1.117±0.009\n",
      "1.159±0.078\n"
     ]
    }
   ],
   "source": [
    "for key in unetSimAvg.keys():\n",
    "    print(\"{:.3f}\".format(unetSimAvg[key]) + \"±\" + \"{:.3f}\".format(unetSimStd[key]))"
   ]
  },
  {
   "cell_type": "code",
   "execution_count": 100,
   "id": "77fec86e",
   "metadata": {},
   "outputs": [
    {
     "name": "stdout",
     "output_type": "stream",
     "text": [
      "RanksumsResult(statistic=-27.372445072567945, pvalue=5.838694752203346e-165)\n",
      "RanksumsResult(statistic=-27.372445072567945, pvalue=5.838694752203346e-165)\n",
      "RanksumsResult(statistic=-27.372445072567945, pvalue=5.838694752203346e-165)\n",
      "RanksumsResult(statistic=-27.372445072567945, pvalue=5.838694752203346e-165)\n",
      "RanksumsResult(statistic=-27.372445072567945, pvalue=5.838694752203346e-165)\n",
      "RanksumsResult(statistic=-27.372445072567945, pvalue=5.838694752203346e-165)\n"
     ]
    }
   ],
   "source": [
    "for key in unetSimAvg.keys():\n",
    "    print(ranksums(np.array([run[0][0][1] for run in unetSimData[key]]), \n",
    "          np.array([run[0][0][1] for run in mlpSimData[key]])))"
   ]
  },
  {
   "cell_type": "code",
   "execution_count": 97,
   "id": "c4d3edaa",
   "metadata": {},
   "outputs": [],
   "source": [
    "mlpSimAvg, mlpSimStd = compressResults(mlpSimData)"
   ]
  },
  {
   "cell_type": "code",
   "execution_count": 98,
   "id": "3684cdae",
   "metadata": {
    "scrolled": true
   },
   "outputs": [
    {
     "name": "stdout",
     "output_type": "stream",
     "text": [
      "1.183±0.001\n",
      "1.488±0.022\n",
      "1.601±0.002\n",
      "1.800±0.039\n",
      "2.560±0.004\n",
      "2.545±0.065\n"
     ]
    }
   ],
   "source": [
    "for key in unetSimAvg.keys():\n",
    "    print(\"{:.3f}\".format(mlpSimAvg[key]) + \"±\" + \"{:.3f}\".format(mlpSimStd[key]))"
   ]
  },
  {
   "cell_type": "markdown",
   "id": "d9bfd9b1",
   "metadata": {},
   "source": [
    "### 1.6.c Saving"
   ]
  },
  {
   "cell_type": "code",
   "execution_count": 101,
   "id": "c68cb9aa",
   "metadata": {},
   "outputs": [],
   "source": [
    "np.save(\"dataset-1-sim-avg-results-bn.npy\", \n",
    "        [unetSimAvg, unetSimStd, mlpSimAvg, mlpSimStd])\n",
    "\n",
    "np.save(\"dataset-1-sim-FULL-results-bn.npy\", \n",
    "        [unetSimData, mlpSimData])"
   ]
  },
  {
   "cell_type": "markdown",
   "id": "3ab655e0",
   "metadata": {},
   "source": [
    "## 1.7 Trying out Simulations for MWF w/SR w/6 echo w/6 classes"
   ]
  },
  {
   "cell_type": "code",
   "execution_count": 96,
   "id": "b5287027",
   "metadata": {},
   "outputs": [],
   "source": [
    "labels, brains, mask_array, lesion_mask_array, \\\n",
    "label2245, brain2245, mask2245, lesion2245 = loadData(['2245'], 6, True, 1)"
   ]
  },
  {
   "cell_type": "code",
   "execution_count": 97,
   "id": "25c32e8e",
   "metadata": {},
   "outputs": [],
   "source": [
    "labels, brains, mask_array, lesion_mask_array = loadData(['2245'], 6, True, 6)"
   ]
  },
  {
   "cell_type": "code",
   "execution_count": 98,
   "id": "f01e2b58",
   "metadata": {},
   "outputs": [],
   "source": [
    "label2245 = labels[-1][None]"
   ]
  },
  {
   "cell_type": "code",
   "execution_count": 99,
   "id": "898829b2",
   "metadata": {},
   "outputs": [],
   "source": [
    "stats = getStats(6, True, 6)"
   ]
  },
  {
   "cell_type": "code",
   "execution_count": 95,
   "id": "cb3f42cf",
   "metadata": {},
   "outputs": [],
   "source": [
    "# %ls results_v3\n",
    "# !mkdir \"results_v3/mlp-2245-simulations-6-classes\"\n",
    "# !mkdir \"results_v3/mlp-2245-simulations-6-classes/MWF\"\n",
    "# !mkdir \"results_v3/unet-2245-simulations-6-classes\"\n",
    "# !mkdir \"results_v3/unet-2245-simulations-6-classes/MWF\""
   ]
  },
  {
   "cell_type": "code",
   "execution_count": 96,
   "id": "3c7ecbc0",
   "metadata": {},
   "outputs": [],
   "source": [
    "# !mkdir \"results_v3/mlp-2245-simulations-6-classes/IEWF\"\n",
    "# !mkdir \"results_v3/mlp-2245-simulations-6-classes/CSFF\"\n",
    "# !mkdir \"results_v3/mlp-2245-simulations-6-classes/MWF_T2\"\n",
    "# !mkdir \"results_v3/mlp-2245-simulations-6-classes/IEWF_T2\"\n",
    "# !mkdir \"results_v3/mlp-2245-simulations-6-classes/CSFF_T2\"\n",
    "\n",
    "# !mkdir \"results_v3/unet-2245-simulations-6-classes/IEWF\"\n",
    "# !mkdir \"results_v3/unet-2245-simulations-6-classes/CSFF\"\n",
    "# !mkdir \"results_v3/unet-2245-simulations-6-classes/MWF_T2\"\n",
    "# !mkdir \"results_v3/unet-2245-simulations-6-classes/IEWF_T2\"\n",
    "# !mkdir \"results_v3/unet-2245-simulations-6-classes/CSFF_T2\""
   ]
  },
  {
   "cell_type": "code",
   "execution_count": 100,
   "id": "97a71ac0",
   "metadata": {},
   "outputs": [],
   "source": [
    "unetSimData6Classes = {\n",
    "    \"res256snr200\": [],\n",
    "    \"res256snr200Lesion\": [],\n",
    "    \"res256snr100\": [],\n",
    "    \"res256snr100Lesion\": [],\n",
    "    \"res256snr50\": [],\n",
    "    \"res256snr50Lesion\": [],\n",
    "}\n",
    "unetMinSums6Classes = {\n",
    "    200: -1,\n",
    "    100: -1,\n",
    "    50: -1,\n",
    "}\n",
    "mlpSimData6Classes = {\n",
    "    \"res256snr200\": [],\n",
    "    \"res256snr200Lesion\": [],\n",
    "    \"res256snr100\": [],\n",
    "    \"res256snr100Lesion\": [],\n",
    "    \"res256snr50\": [],\n",
    "    \"res256snr50Lesion\": [],\n",
    "}\n",
    "mlpMinSums6Classes = {\n",
    "    200: -1,\n",
    "    100: -1,\n",
    "    50: -1,\n",
    "}"
   ]
  },
  {
   "cell_type": "code",
   "execution_count": 101,
   "id": "fe026b92",
   "metadata": {},
   "outputs": [],
   "source": [
    "state_dict_unet = \"../unet_models/unet_6_classes_2_accum_ckpt_epoch_38.ckpt\"\n",
    "state_dict_mlp = \"../mlp_models/mlp_6_classes_ckpt_epoch_4.ckpt\""
   ]
  },
  {
   "cell_type": "code",
   "execution_count": 102,
   "id": "f84bb014",
   "metadata": {},
   "outputs": [
    {
     "name": "stderr",
     "output_type": "stream",
     "text": [
      "100%|██████████| 500/500 [1:31:40<00:00, 11.00s/it]\n"
     ]
    }
   ],
   "source": [
    "roi = load_nii(\"roi.nii.gz\")\n",
    "NUM_BRAINS = len(brain2245)\n",
    "\n",
    "for i in tqdm(range(500)):\n",
    "    SNRs = [200, 100, 50]\n",
    "    for SNR in SNRs:\n",
    "    # Generating Brain\n",
    "        noise = np.random.normal(size=(NUM_BRAINS,) + brain2245[0].shape, \n",
    "                                 scale=(brain2245[0,0][roi == 1].mean()/SNR))\n",
    "        simBrain256 = generateBrain(brain2245, mask2245, noise)\n",
    "        # Testing Brain\n",
    "        tempResUNET = calculateResultsErrorTableUNETTuning(state_dict_unet, stats, \n",
    "                                                           simBrain256, label2245, \n",
    "                                                           mask2245, [SIM_BRAIN], \n",
    "                                                           save = False, nClasses = 6)\n",
    "        tempResLesionUNET = calculateResultsErrorTableUNETTuning(state_dict_unet, stats, \n",
    "                                                                 simBrain256, label2245, \n",
    "                                                                 mask2245, [SIM_BRAIN], \n",
    "                                                                 lesions = lesion2245, lesion=True, \n",
    "                                                                 save = False, nClasses = 6)\n",
    "        tempResMLP = calculateResultsErrorTableMLP(state_dict_mlp, stats, \n",
    "                                                   simBrain256, label2245, \n",
    "                                                   mask2245, [SIM_BRAIN], \n",
    "                                                   save = False, nClasses = 6)\n",
    "        tempResLesionMLP = calculateResultsErrorTableMLP(state_dict_mlp, stats, \n",
    "                                                         simBrain256, label2245, \n",
    "                                                         mask2245, [SIM_BRAIN], \n",
    "                                                         lesions = lesion2245, lesion=True, \n",
    "                                                         save = False, nClasses = 6)\n",
    "        unetSimData6Classes[f\"res256snr{SNR}\"].append(tempResUNET)\n",
    "        unetSimData6Classes[f\"res256snr{SNR}Lesion\"].append(tempResLesionUNET)\n",
    "        mlpSimData6Classes[f\"res256snr{SNR}\"].append(tempResMLP)\n",
    "        mlpSimData6Classes[f\"res256snr{SNR}Lesion\"].append(tempResLesionMLP)\n",
    "\n",
    "        dataUNET = [i[1] for i in tempResUNET[0]]\n",
    "        dataMLP = [i[1] for i in tempResMLP[0]]\n",
    "        if (unetMinSums6Classes[SNR] == -1 or sum(dataUNET) < unetMinSums6Classes[SNR]):\n",
    "            unetMinSums6Classes[SNR] = sum(dataUNET)\n",
    "            calculateResultsErrorTableUNETTuning(state_dict_unet, stats, \n",
    "                                                 simBrain256, label2245, \n",
    "                                                 mask2245, [SIM_BRAIN],\n",
    "                                                 save = True, brainType = f'256sim_snr{SNR}',\n",
    "                                                 folder = \"unet-2245-simulations-6-classes\", nClasses = 6)\n",
    "            save_nii(simBrain256[0].transpose((1,2,3,0)), \n",
    "                     f\"results_v3/unet-2245-simulations-6-classes/MWF/fastt2_snr{SNR}.nii.gz\",\n",
    "                     \"../2245/FASTT2_FULL.nii.gz\")\n",
    "        if (mlpMinSums6Classes[SNR] == -1 or sum(dataMLP) < mlpMinSums6Classes[SNR]):\n",
    "            mlpMinSums6Classes[SNR] = sum(dataMLP)\n",
    "            calculateResultsErrorTableMLP(state_dict_mlp, stats, \n",
    "                                          simBrain256, label2245, \n",
    "                                          mask2245, [SIM_BRAIN], \n",
    "                                          save = True, brainType = f'256sim_snr{SNR}', \n",
    "                                          folder = \"mlp-2245-simulations-6-classes\", nClasses = 6)\n",
    "            save_nii(simBrain256[0].transpose((1,2,3,0)), \n",
    "                     f\"results_v3/mlp-2245-simulations-6-classes/MWF/fastt2_snr{SNR}.nii.gz\",\n",
    "                     \"../2245/FASTT2_FULL.nii.gz\")"
   ]
  },
  {
   "cell_type": "code",
   "execution_count": 103,
   "id": "f11a2d64",
   "metadata": {},
   "outputs": [],
   "source": [
    "unetSimAvg, unetSimStd = compressResults(unetSimData6Classes)"
   ]
  },
  {
   "cell_type": "code",
   "execution_count": 104,
   "id": "30017c7e",
   "metadata": {},
   "outputs": [
    {
     "name": "stdout",
     "output_type": "stream",
     "text": [
      "0.763±0.001\n",
      "0.584±0.023\n",
      "0.885±0.003\n",
      "0.704±0.041\n",
      "1.106±0.004\n",
      "0.950±0.065\n"
     ]
    }
   ],
   "source": [
    "for key in unetSimAvg.keys():\n",
    "    print(\"{:.3f}\".format(unetSimAvg[key]) + \"±\" + \"{:.3f}\".format(unetSimStd[key]))"
   ]
  },
  {
   "cell_type": "code",
   "execution_count": 110,
   "id": "f5ac89aa",
   "metadata": {},
   "outputs": [
    {
     "name": "stdout",
     "output_type": "stream",
     "text": [
      "RanksumsResult(statistic=-27.372445072567945, pvalue=5.838694752203346e-165)\n",
      "RanksumsResult(statistic=-27.372445072567945, pvalue=5.838694752203346e-165)\n",
      "RanksumsResult(statistic=-27.372445072567945, pvalue=5.838694752203346e-165)\n",
      "RanksumsResult(statistic=-27.372445072567945, pvalue=5.838694752203346e-165)\n",
      "RanksumsResult(statistic=-27.372445072567945, pvalue=5.838694752203346e-165)\n",
      "RanksumsResult(statistic=-27.372445072567945, pvalue=5.838694752203346e-165)\n"
     ]
    }
   ],
   "source": [
    "for key in unetSimAvg.keys():\n",
    "    print(ranksums(np.array([run[0][0][1] for run in unetSimData6Classes[key]]), \n",
    "          np.array([run[0][0][1] for run in mlpSimData6Classes[key]])))"
   ]
  },
  {
   "cell_type": "code",
   "execution_count": 106,
   "id": "f2335bb4",
   "metadata": {},
   "outputs": [],
   "source": [
    "mlpSimAvg, mlpSimStd = compressResults(mlpSimData6Classes)"
   ]
  },
  {
   "cell_type": "code",
   "execution_count": 107,
   "id": "2f630bf0",
   "metadata": {},
   "outputs": [
    {
     "name": "stdout",
     "output_type": "stream",
     "text": [
      "1.291±0.001\n",
      "1.584±0.023\n",
      "1.664±0.002\n",
      "1.875±0.038\n",
      "2.562±0.004\n",
      "2.611±0.068\n"
     ]
    }
   ],
   "source": [
    "for key in unetSimAvg.keys():\n",
    "    print(\"{:.3f}\".format(mlpSimAvg[key]) + \"±\" + \"{:.3f}\".format(mlpSimStd[key]))"
   ]
  },
  {
   "cell_type": "markdown",
   "id": "70eee58f",
   "metadata": {},
   "source": [
    "### 1.7.c Saving"
   ]
  },
  {
   "cell_type": "code",
   "execution_count": 108,
   "id": "93754632",
   "metadata": {},
   "outputs": [],
   "source": [
    "np.save(\"dataset-1-sim-6-classes-avg-results-bn.npy\", \n",
    "        [unetSimAvg, unetSimStd, mlpSimAvg, mlpSimStd])\n",
    "\n",
    "np.save(\"dataset-1-sim-6-classes-FULL-results-bn.npy\", \n",
    "        [unetSimData6Classes, mlpSimData6Classes])"
   ]
  },
  {
   "cell_type": "markdown",
   "id": "971397d2",
   "metadata": {},
   "source": [
    "## Testing simulations on non-SR brain"
   ]
  },
  {
   "cell_type": "code",
   "execution_count": 81,
   "id": "f44aaeba",
   "metadata": {},
   "outputs": [],
   "source": [
    "labels, brains, mask_array, lesion_mask_array, \\\n",
    "label2245, brain2245, mask2245, lesion2245 = loadData(['2245'], 6, True, 1)"
   ]
  },
  {
   "cell_type": "code",
   "execution_count": 82,
   "id": "f5a3efa0",
   "metadata": {},
   "outputs": [],
   "source": [
    "labels, brains, mask_array, lesion_mask_array = loadData(['2245'], 6, False, 1)"
   ]
  },
  {
   "cell_type": "code",
   "execution_count": 83,
   "id": "b58ded0f",
   "metadata": {},
   "outputs": [],
   "source": [
    "label2245 = labels[-1][None]"
   ]
  },
  {
   "cell_type": "code",
   "execution_count": 84,
   "id": "10a63e49",
   "metadata": {},
   "outputs": [],
   "source": [
    "stats = getStats(6, False, 1)"
   ]
  },
  {
   "cell_type": "code",
   "execution_count": 85,
   "id": "d19b781d",
   "metadata": {},
   "outputs": [],
   "source": [
    "# %ls results_v3\n",
    "# !mkdir \"results_v3/mlp-2245-simulations-no-sr\"\n",
    "# !mkdir \"results_v3/mlp-2245-simulations-no-sr/MWF\"\n",
    "# !mkdir \"results_v3/unet-2245-simulations-no-sr\"\n",
    "# !mkdir \"results_v3/unet-2245-simulations-no-sr/MWF\""
   ]
  },
  {
   "cell_type": "code",
   "execution_count": 86,
   "id": "6e2a3bda",
   "metadata": {},
   "outputs": [],
   "source": [
    "unetSimDataNoSr = {\n",
    "    \"res256snr200\": [],\n",
    "    \"res256snr200Lesion\": [],\n",
    "    \"res256snr100\": [],\n",
    "    \"res256snr100Lesion\": [],\n",
    "    \"res256snr50\": [],\n",
    "    \"res256snr50Lesion\": [],\n",
    "}\n",
    "unetMinSumsNoSr = {\n",
    "    200: -1,\n",
    "    100: -1,\n",
    "    50: -1,\n",
    "}\n",
    "mlpSimDataNoSr = {\n",
    "    \"res256snr200\": [],\n",
    "    \"res256snr200Lesion\": [],\n",
    "    \"res256snr100\": [],\n",
    "    \"res256snr100Lesion\": [],\n",
    "    \"res256snr50\": [],\n",
    "    \"res256snr50Lesion\": [],\n",
    "}\n",
    "mlpMinSumsNoSr = {\n",
    "    200: -1,\n",
    "    100: -1,\n",
    "    50: -1,\n",
    "}"
   ]
  },
  {
   "cell_type": "code",
   "execution_count": 87,
   "id": "0b2e6665",
   "metadata": {},
   "outputs": [],
   "source": [
    "state_dict_unet = \"../unet_models/unet_no_sr_ckpt_epoch_39.ckpt\"\n",
    "state_dict_mlp = \"../mlp_models/mlp_no_sr_ckpt_epoch_4.ckpt\""
   ]
  },
  {
   "cell_type": "code",
   "execution_count": 90,
   "id": "33332ad4",
   "metadata": {},
   "outputs": [
    {
     "name": "stderr",
     "output_type": "stream",
     "text": [
      "100%|██████████| 10/10 [01:11<00:00,  7.18s/it]\n"
     ]
    }
   ],
   "source": [
    "roi = load_nii(\"roi.nii.gz\")\n",
    "NUM_BRAINS = len(brain2245)\n",
    "\n",
    "for i in tqdm(range(10)):\n",
    "    SNRs = [200, 100, 50]\n",
    "    for SNR in SNRs:\n",
    "    # Generating Brain\n",
    "        noise = np.random.normal(size=(NUM_BRAINS,) + brain2245[0].shape, \n",
    "                                 scale=(brain2245[0,0][roi == 1].mean()/SNR))\n",
    "        simBrain256 = generateBrain(brain2245, mask2245, noise)\n",
    "        # Testing Brain\n",
    "        tempResUNET = calculateResultsErrorTableUNETTuning(state_dict_unet, stats, \n",
    "                                                           simBrain256, label2245, \n",
    "                                                           mask2245, [SIM_BRAIN], \n",
    "                                                           save = False)\n",
    "        tempResLesionUNET = calculateResultsErrorTableUNETTuning(state_dict_unet, stats, \n",
    "                                                                 simBrain256, label2245, \n",
    "                                                                 mask2245, [SIM_BRAIN], \n",
    "                                                                 lesions = lesion2245, lesion=True, \n",
    "                                                                 save = False)\n",
    "        tempResMLP = calculateResultsErrorTableMLP(state_dict_mlp, stats, \n",
    "                                                   simBrain256, label2245, \n",
    "                                                   mask2245, [SIM_BRAIN], \n",
    "                                                   save = False)\n",
    "        tempResLesionMLP = calculateResultsErrorTableMLP(state_dict_mlp, stats, \n",
    "                                                         simBrain256, label2245, \n",
    "                                                         mask2245, [SIM_BRAIN], \n",
    "                                                         lesions = lesion2245, lesion=True, \n",
    "                                                         save = False)\n",
    "        unetSimDataNoSr[f\"res256snr{SNR}\"].append(tempResUNET)\n",
    "        unetSimDataNoSr[f\"res256snr{SNR}Lesion\"].append(tempResLesionUNET)\n",
    "        mlpSimDataNoSr[f\"res256snr{SNR}\"].append(tempResMLP)\n",
    "        mlpSimDataNoSr[f\"res256snr{SNR}Lesion\"].append(tempResLesionMLP)\n",
    "\n",
    "        dataUNET = [i[1] for i in tempResUNET[0]]\n",
    "        dataMLP = [i[1] for i in tempResMLP[0]]\n",
    "        if (unetMinSumsNoSr[SNR] == -1 or sum(dataUNET) < unetMinSumsNoSr[SNR]):\n",
    "            unetMinSumsNoSr[SNR] = sum(dataUNET)\n",
    "            calculateResultsErrorTableUNETTuning(state_dict_unet, stats, \n",
    "                                                 simBrain256, label2245, \n",
    "                                                 mask2245, [SIM_BRAIN],\n",
    "                                                 save = True, brainType = f'256sim_snr{SNR}',\n",
    "                                                 folder = \"unet-2245-simulations-no-sr\")\n",
    "            save_nii(simBrain256[0].transpose((1,2,3,0)), \n",
    "                     f\"results_v3/unet-2245-simulations-no-sr/MWF/fastt2_snr{SNR}.nii.gz\",\n",
    "                     \"../2245/FASTT2_FULL.nii.gz\")\n",
    "        if (mlpMinSumsNoSr[SNR] == -1 or sum(dataMLP) < mlpMinSumsNoSr[SNR]):\n",
    "            mlpMinSumsNoSr[SNR] = sum(dataMLP)\n",
    "            calculateResultsErrorTableMLP(state_dict_mlp, stats, \n",
    "                                          simBrain256, label2245, \n",
    "                                          mask2245, [SIM_BRAIN], \n",
    "                                          save = True, brainType = f'256sim_snr{SNR}', \n",
    "                                          folder = \"mlp-2245-simulations-no-sr\")\n",
    "            save_nii(simBrain256[0].transpose((1,2,3,0)), \n",
    "                     f\"results_v3/mlp-2245-simulations-no-sr/MWF/fastt2_snr{SNR}.nii.gz\",\n",
    "                     \"../2245/FASTT2_FULL.nii.gz\")"
   ]
  },
  {
   "cell_type": "code",
   "execution_count": 91,
   "id": "dc31dbe6",
   "metadata": {},
   "outputs": [],
   "source": [
    "unetSimAvg, unetSimStd = compressResults(unetSimDataNoSr)"
   ]
  },
  {
   "cell_type": "code",
   "execution_count": 92,
   "id": "d1e500ce",
   "metadata": {},
   "outputs": [
    {
     "name": "stdout",
     "output_type": "stream",
     "text": [
      "1.849±0.002\n",
      "1.475±0.036\n",
      "2.435±0.011\n",
      "2.091±0.097\n",
      "2.187±0.004\n",
      "1.893±0.073\n"
     ]
    }
   ],
   "source": [
    "for key in unetSimAvg.keys():\n",
    "    print(\"{:.3f}\".format(unetSimAvg[key]) + \"±\" + \"{:.3f}\".format(unetSimStd[key]))"
   ]
  },
  {
   "cell_type": "code",
   "execution_count": null,
   "id": "b2862799",
   "metadata": {},
   "outputs": [],
   "source": [
    "for key in unetSimAvg.keys():\n",
    "    print(ranksums(np.array([run[0][0][1] for run in unetSimData6Classes[key]]), \n",
    "          np.array([run[0][0][1] for run in mlpSimData6Classes[key]])))"
   ]
  },
  {
   "cell_type": "code",
   "execution_count": 93,
   "id": "9bb11905",
   "metadata": {},
   "outputs": [],
   "source": [
    "mlpSimAvg, mlpSimStd = compressResults(mlpSimDataNoSr)"
   ]
  },
  {
   "cell_type": "code",
   "execution_count": 94,
   "id": "1e67d232",
   "metadata": {},
   "outputs": [
    {
     "name": "stdout",
     "output_type": "stream",
     "text": [
      "2.138±0.002\n",
      "1.816±0.053\n",
      "3.142±0.005\n",
      "2.609±0.084\n",
      "4.547±0.006\n",
      "3.671±0.122\n"
     ]
    }
   ],
   "source": [
    "for key in unetSimAvg.keys():\n",
    "    print(\"{:.3f}\".format(mlpSimAvg[key]) + \"±\" + \"{:.3f}\".format(mlpSimStd[key]))"
   ]
  },
  {
   "cell_type": "code",
   "execution_count": null,
   "id": "f0165b9d",
   "metadata": {},
   "outputs": [],
   "source": [
    "np.save(\"dataset-1-sim-6-classes-avg-results-bn.npy\", \n",
    "        [unetSimAvg, unetSimStd, mlpSimAvg, mlpSimStd])\n",
    "\n",
    "np.save(\"dataset-1-sim-6-classes-FULL-results-bn.npy\", \n",
    "        [unetSimData6Classes, mlpSimData6Classes])"
   ]
  },
  {
   "cell_type": "code",
   "execution_count": null,
   "id": "29e3d19f",
   "metadata": {},
   "outputs": [],
   "source": []
  },
  {
   "cell_type": "markdown",
   "id": "0720c336",
   "metadata": {},
   "source": [
    "# 2. Test Dataset 2"
   ]
  },
  {
   "cell_type": "code",
   "execution_count": 116,
   "id": "4e7204c8",
   "metadata": {},
   "outputs": [],
   "source": [
    "reproNumbers = ['125545', '093924', '151026', '111721', '093923', \n",
    "                '151025', '113308', '113307', '171732', '101851', \n",
    "                '125546', '163835', '163834', '154655', '101850', \n",
    "                '175630', '175631', '184052', '111720', '184051']"
   ]
  },
  {
   "cell_type": "code",
   "execution_count": 117,
   "id": "96943759",
   "metadata": {},
   "outputs": [],
   "source": [
    "labels, brains, mask_array, _ = loadData(reproNumbers, 6, True, 1, getLesion = False)"
   ]
  },
  {
   "cell_type": "code",
   "execution_count": 118,
   "id": "65f8ad7b",
   "metadata": {},
   "outputs": [],
   "source": [
    "stats = getStats(6, True, 1)"
   ]
  },
  {
   "cell_type": "markdown",
   "id": "45d6ceb3",
   "metadata": {},
   "source": [
    "### 2.1 Unet"
   ]
  },
  {
   "cell_type": "code",
   "execution_count": 119,
   "id": "09e6a836",
   "metadata": {},
   "outputs": [],
   "source": [
    "state_dict = \"../unet_models/unet_mwf_only_plus_sr_ckpt_epoch_30.ckpt\""
   ]
  },
  {
   "cell_type": "code",
   "execution_count": 43,
   "id": "a71ee7e9",
   "metadata": {},
   "outputs": [],
   "source": [
    "# %ls results_v3\n",
    "# !mkdir \"results_v3/unet-healthy\"\n",
    "# !mkdir \"results_v3/unet-healthy/MWF\""
   ]
  },
  {
   "cell_type": "code",
   "execution_count": 120,
   "id": "912a8fed",
   "metadata": {},
   "outputs": [],
   "source": [
    "results_unet_healthy = calculateResultsErrorTableUNETTuning(state_dict, stats,   \n",
    "                                                            brains, labels,\n",
    "                                                            mask_array, reproNumbers,\n",
    "                                                            save=True, folder=\"unet-healthy\", \n",
    "                                                            brainType=\"repro\")"
   ]
  },
  {
   "cell_type": "code",
   "execution_count": 121,
   "id": "d394f5cf",
   "metadata": {},
   "outputs": [
    {
     "name": "stdout",
     "output_type": "stream",
     "text": [
      "0.402±0.055\n"
     ]
    }
   ],
   "source": [
    "for j in range(1):\n",
    "    data = [i[1] for i in results_unet_healthy[j]]\n",
    "    print(f\"{'{:.3f}'.format(np.mean(data))}±{'{:.3f}'.format(np.std(data))}\")"
   ]
  },
  {
   "cell_type": "code",
   "execution_count": 122,
   "id": "738ba395",
   "metadata": {},
   "outputs": [],
   "source": [
    "# %ls results_v3\n",
    "# !mkdir \"results_v3/unet-healthy-6-classes\"\n",
    "# !mkdir \"results_v3/unet-healthy-6-classes/MWF\""
   ]
  },
  {
   "cell_type": "code",
   "execution_count": 123,
   "id": "bce5c886",
   "metadata": {},
   "outputs": [],
   "source": [
    "state_dict = \"../unet_models/unet_6_classes_2_accum_ckpt_epoch_38.ckpt\""
   ]
  },
  {
   "cell_type": "code",
   "execution_count": 124,
   "id": "94155ac6",
   "metadata": {},
   "outputs": [],
   "source": [
    "stats = getStats(6, True, 6)"
   ]
  },
  {
   "cell_type": "code",
   "execution_count": 127,
   "id": "362141ca",
   "metadata": {},
   "outputs": [],
   "source": [
    "results_unet_healthy_6_classes = calculateResultsErrorTableUNETTuning(state_dict, stats,   \n",
    "                                                                      brains, labels,\n",
    "                                                                      mask_array, reproNumbers,\n",
    "                                                                      save=True, \n",
    "                                                                      folder=\"unet-healthy-6-classes\",\n",
    "                                                                      nClasses = 6,\n",
    "                                                                      brainType=\"repro\")"
   ]
  },
  {
   "cell_type": "code",
   "execution_count": 128,
   "id": "293e2060",
   "metadata": {},
   "outputs": [
    {
     "name": "stdout",
     "output_type": "stream",
     "text": [
      "0.447±0.055\n"
     ]
    }
   ],
   "source": [
    "for j in range(1):\n",
    "    data = [i[1] for i in results_unet_healthy_6_classes[j]]\n",
    "    print(f\"{'{:.3f}'.format(np.mean(data))}±{'{:.3f}'.format(np.std(data))}\")"
   ]
  },
  {
   "cell_type": "markdown",
   "id": "0ffd2c7a",
   "metadata": {},
   "source": [
    "### 2.2 MLP"
   ]
  },
  {
   "cell_type": "code",
   "execution_count": 129,
   "id": "8e1407d5",
   "metadata": {},
   "outputs": [],
   "source": [
    "# %ls results_v3\n",
    "# !mkdir \"results_v3/mlp-healthy\"\n",
    "# !mkdir \"results_v3/mlp-healthy/MWF\""
   ]
  },
  {
   "cell_type": "code",
   "execution_count": 130,
   "id": "accb0bb1",
   "metadata": {},
   "outputs": [],
   "source": [
    "state_dict = \"../mlp_models/mlp_mwf_only_plus_sr_ckpt_epoch_12.ckpt\""
   ]
  },
  {
   "cell_type": "code",
   "execution_count": 131,
   "id": "c13a2efc",
   "metadata": {},
   "outputs": [],
   "source": [
    "stats = getStats(6, True, 1)"
   ]
  },
  {
   "cell_type": "code",
   "execution_count": 132,
   "id": "82160f88",
   "metadata": {},
   "outputs": [],
   "source": [
    "results_mlp_healthy = calculateResultsErrorTableMLP(state_dict, stats, \n",
    "                                                    brains, labels, \n",
    "                                                    mask_array, reproNumbers, \n",
    "                                                    save=True, folder=\"mlp-healthy\", \n",
    "                                                    brainType=\"repro\")"
   ]
  },
  {
   "cell_type": "code",
   "execution_count": 133,
   "id": "6d6953e3",
   "metadata": {},
   "outputs": [
    {
     "name": "stdout",
     "output_type": "stream",
     "text": [
      "1.023±0.074\n"
     ]
    }
   ],
   "source": [
    "for j in range(1):\n",
    "    data = [i[1] for i in results_mlp_healthy[j]]\n",
    "    print(f\"{'{:.3f}'.format(np.mean(data))}±{'{:.3f}'.format(np.std(data))}\")"
   ]
  },
  {
   "cell_type": "code",
   "execution_count": 134,
   "id": "a6a1ba21",
   "metadata": {},
   "outputs": [],
   "source": [
    "# %ls results_v3\n",
    "# !mkdir \"results_v3/mlp-healthy-6-classes\"\n",
    "# !mkdir \"results_v3/mlp-healthy-6-classes/MWF\""
   ]
  },
  {
   "cell_type": "code",
   "execution_count": 135,
   "id": "9d309905",
   "metadata": {},
   "outputs": [],
   "source": [
    "state_dict = \"../mlp_models/mlp_6_classes_ckpt_epoch_4.ckpt\""
   ]
  },
  {
   "cell_type": "code",
   "execution_count": 136,
   "id": "2d27162f",
   "metadata": {},
   "outputs": [],
   "source": [
    "stats = getStats(6, True, 6)"
   ]
  },
  {
   "cell_type": "code",
   "execution_count": 137,
   "id": "100c4f70",
   "metadata": {},
   "outputs": [],
   "source": [
    "results_mlp_healthy_6_classes = calculateResultsErrorTableMLP(state_dict, stats, \n",
    "                                                    brains, labels, \n",
    "                                                    mask_array, reproNumbers, \n",
    "                                                    save=True, folder=\"mlp-healthy-6-classes\", \n",
    "                                                    brainType=\"repro\", nClasses = 6)"
   ]
  },
  {
   "cell_type": "code",
   "execution_count": 138,
   "id": "16709db5",
   "metadata": {},
   "outputs": [
    {
     "name": "stdout",
     "output_type": "stream",
     "text": [
      "1.124±0.074\n"
     ]
    }
   ],
   "source": [
    "for j in range(1):\n",
    "    data = [i[1] for i in results_mlp_healthy_6_classes[j]]\n",
    "    print(f\"{'{:.3f}'.format(np.mean(data))}±{'{:.3f}'.format(np.std(data))}\")"
   ]
  },
  {
   "cell_type": "code",
   "execution_count": 139,
   "id": "038fb5e7",
   "metadata": {
    "scrolled": true
   },
   "outputs": [
    {
     "name": "stdout",
     "output_type": "stream",
     "text": [
      "RanksumsResult(statistic=-5.410017808004594, pvalue=6.301848221392269e-08)\n"
     ]
    }
   ],
   "source": [
    "print(ranksums([i[1] for i in results_unet_healthy_6_classes[0]],\n",
    "               [i[1] for i in results_mlp_healthy_6_classes[0]]))"
   ]
  },
  {
   "cell_type": "markdown",
   "id": "34405ec4",
   "metadata": {},
   "source": [
    "### 2.3 Saving"
   ]
  },
  {
   "cell_type": "code",
   "execution_count": 53,
   "id": "0c169eff",
   "metadata": {},
   "outputs": [],
   "source": [
    "np.save(\"dataset-2-mwf-healthy-bn.npy\", \n",
    "        [results_unet_healthy, results_mlp_healthy])"
   ]
  },
  {
   "cell_type": "code",
   "execution_count": 77,
   "id": "bf8ebc75",
   "metadata": {},
   "outputs": [],
   "source": [
    "np.save(\"dataset-2-mwf-healthy-6-classes-bn.npy\", \n",
    "        [results_unet_healthy_6_classes, results_mlp_healthy_6_classes])"
   ]
  },
  {
   "cell_type": "code",
   "execution_count": null,
   "id": "f34c2b9c",
   "metadata": {},
   "outputs": [],
   "source": []
  }
 ],
 "metadata": {
  "kernelspec": {
   "display_name": "Python 3",
   "language": "python",
   "name": "python3"
  },
  "language_info": {
   "codemirror_mode": {
    "name": "ipython",
    "version": 3
   },
   "file_extension": ".py",
   "mimetype": "text/x-python",
   "name": "python",
   "nbconvert_exporter": "python",
   "pygments_lexer": "ipython3",
   "version": "3.6.9"
  }
 },
 "nbformat": 4,
 "nbformat_minor": 5
}
